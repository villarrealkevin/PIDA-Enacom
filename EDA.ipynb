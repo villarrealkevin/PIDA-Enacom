{
 "cells": [
  {
   "cell_type": "code",
   "execution_count": 2,
   "metadata": {},
   "outputs": [],
   "source": [
    "import pandas as pd\n",
    "import seaborn as sns\n",
    "import matplotlib.pyplot as plt\n",
    "import warnings\n",
    "warnings.filterwarnings(\"ignore\")"
   ]
  },
  {
   "cell_type": "code",
   "execution_count": 3,
   "metadata": {},
   "outputs": [],
   "source": [
    "df = pd.read_csv(\"datasets/Internet_BAF.csv\")\n",
    "df2 = pd.read_csv(\"datasets/Internet_BAFP.csv\")\n",
    "df3 = pd.read_csv(\"datasets/AccesosaInternetfijoportecnologiaylocalidad_2791751698874669371.csv\")\n",
    "df4 = pd.read_csv(\"datasets/AccesosaInternetfijoporvelocidadbajadayprovincia_2791741698874719225.csv\")\n",
    "df5 = pd.read_csv(\"datasets/AccesosaInternetfijoporvelocidaddebajadaylocalidad_2776171698874687626.csv\")\n",
    "df6 = pd.read_csv(\"datasets/Internet_Accesos-por-tecnologia.csv\")\n",
    "df7 = pd.read_csv(\"datasets/Internet_Accesos-por-tecnologiaG.csv\")\n",
    "df8 = pd.read_csv(\"datasets/Internet_Accesos-por-velocidad.csv\")\n",
    "df9 = pd.read_csv(\"datasets/Internet_Accesos-por-velocidadG.csv\")\n",
    "df10 = pd.read_csv(\"datasets/Internet_IngresosG.csv\")\n",
    "df11 = pd.read_csv(\"datasets/Internet_Penetracion.csv\")\n",
    "df12 = pd.read_csv(\"datasets/Internet_PenetracionG.csv\")\n",
    "df13 = pd.read_csv(\"datasets/Listadodelocalidadesconconectividadainternet_2750221698874896015.csv\")\n",
    "df14 = pd.read_csv(\"datasets/historico_velocidad_internet.csv\")\n",
    "df15 = pd.read_csv(\"datasets/historico_velocidad_internetG.csv\")"
   ]
  },
  {
   "cell_type": "markdown",
   "metadata": {},
   "source": [
    "Informacion general de los datasets"
   ]
  },
  {
   "cell_type": "code",
   "execution_count": 4,
   "metadata": {},
   "outputs": [
    {
     "name": "stdout",
     "output_type": "stream",
     "text": [
      "<class 'pandas.core.frame.DataFrame'>\n",
      "RangeIndex: 36 entries, 0 to 35\n",
      "Data columns (total 6 columns):\n",
      " #   Column            Non-Null Count  Dtype \n",
      "---  ------            --------------  ----- \n",
      " 0   Año               36 non-null     int64 \n",
      " 1   Trimestre         36 non-null     int64 \n",
      " 2   Banda ancha fija  36 non-null     int64 \n",
      " 3   Dial up           36 non-null     int64 \n",
      " 4   Total             36 non-null     int64 \n",
      " 5   Periodo           36 non-null     object\n",
      "dtypes: int64(5), object(1)\n",
      "memory usage: 1.8+ KB\n",
      "<class 'pandas.core.frame.DataFrame'>\n",
      "RangeIndex: 864 entries, 0 to 863\n",
      "Data columns (total 6 columns):\n",
      " #   Column            Non-Null Count  Dtype  \n",
      "---  ------            --------------  -----  \n",
      " 0   Año               864 non-null    int64  \n",
      " 1   Trimestre         864 non-null    int64  \n",
      " 2   Provincia         864 non-null    object \n",
      " 3   Banda ancha fija  864 non-null    int64  \n",
      " 4   Dial up           862 non-null    float64\n",
      " 5   Total             864 non-null    int64  \n",
      "dtypes: float64(1), int64(4), object(1)\n",
      "memory usage: 40.6+ KB\n"
     ]
    }
   ],
   "source": [
    "df.info()\n",
    "df2.info()"
   ]
  },
  {
   "cell_type": "code",
   "execution_count": 5,
   "metadata": {},
   "outputs": [
    {
     "name": "stdout",
     "output_type": "stream",
     "text": [
      "<class 'pandas.core.frame.DataFrame'>\n",
      "RangeIndex: 3137 entries, 0 to 3136\n",
      "Data columns (total 14 columns):\n",
      " #   Column         Non-Null Count  Dtype  \n",
      "---  ------         --------------  -----  \n",
      " 0   Provincia      3137 non-null   object \n",
      " 1   Partido        3137 non-null   object \n",
      " 2   Localidad      3137 non-null   object \n",
      " 3   Link Indec     3137 non-null   object \n",
      " 4   ADSL           3137 non-null   object \n",
      " 5   CABLEMODEM     3137 non-null   object \n",
      " 6   DIAL UP        3137 non-null   object \n",
      " 7   FIBRA OPTICA   3137 non-null   object \n",
      " 8   OTROS          3137 non-null   object \n",
      " 9   SATELITAL      3137 non-null   object \n",
      " 10  WIMAX          3137 non-null   object \n",
      " 11  WIRELESS       3137 non-null   object \n",
      " 12  Total general  3137 non-null   object \n",
      " 13  Unnamed: 13    0 non-null      float64\n",
      "dtypes: float64(1), object(13)\n",
      "memory usage: 343.2+ KB\n"
     ]
    }
   ],
   "source": [
    "df3.info()"
   ]
  },
  {
   "cell_type": "code",
   "execution_count": 6,
   "metadata": {},
   "outputs": [
    {
     "name": "stdout",
     "output_type": "stream",
     "text": [
      "<class 'pandas.core.frame.DataFrame'>\n",
      "RangeIndex: 505 entries, 0 to 504\n",
      "Data columns (total 97 columns):\n",
      " #   Column      Non-Null Count  Dtype  \n",
      "---  ------      --------------  -----  \n",
      " 0   Año         504 non-null    float64\n",
      " 1   Trimestre   504 non-null    float64\n",
      " 2   Provincia   504 non-null    object \n",
      " 3   Otros       504 non-null    object \n",
      " 4   0,256 Mbps  504 non-null    object \n",
      " 5   0,375 Mbps  504 non-null    object \n",
      " 6   0,625 Mbps  504 non-null    object \n",
      " 7   0,5 Mbps    504 non-null    float64\n",
      " 8   0,512 Mbps  504 non-null    object \n",
      " 9   0,75 Mbps   504 non-null    object \n",
      " 10  1 Mbps      504 non-null    object \n",
      " 11  1,2 Mbps    504 non-null    object \n",
      " 12  1,25 Mbps   504 non-null    object \n",
      " 13  1,5 Mbps    504 non-null    object \n",
      " 14  2 Mbps      504 non-null    object \n",
      " 15  2,2 Mbps    504 non-null    object \n",
      " 16  2,5 Mbps    505 non-null    object \n",
      " 17  6,7 Mbps    504 non-null    object \n",
      " 18  3 Mbps      504 non-null    float64\n",
      " 19  3,2 Mbps    504 non-null    object \n",
      " 20  3,3 Mbps    504 non-null    object \n",
      " 21  3,5 Mbps    504 non-null    object \n",
      " 22  4 Mbps      504 non-null    object \n",
      " 23  4,5 Mbps    504 non-null    object \n",
      " 24  5 Mbps      504 non-null    object \n",
      " 25  6 Mbps      504 non-null    object \n",
      " 26  6,4 Mbps    504 non-null    object \n",
      " 27  7 Mbps      504 non-null    object \n",
      " 28  7,5 Mbps    504 non-null    object \n",
      " 29  8 Mbps      504 non-null    object \n",
      " 30  9 Mbps      504 non-null    object \n",
      " 31  10 Mbps     504 non-null    float64\n",
      " 32  10,2 Mbps   504 non-null    object \n",
      " 33  10,6 Mbps   504 non-null    object \n",
      " 34  11 Mbps     504 non-null    object \n",
      " 35  12 Mbps     504 non-null    object \n",
      " 36  12,3 Mbps   504 non-null    object \n",
      " 37  13 Mbps     504 non-null    object \n",
      " 38  14 Mbps     504 non-null    object \n",
      " 39  15 Mbps     504 non-null    object \n",
      " 40  16 Mbps     504 non-null    object \n",
      " 41  17 Mbps     504 non-null    object \n",
      " 42  18 Mbps     504 non-null    object \n",
      " 43  19 Mbps     504 non-null    object \n",
      " 44  20 Mbps     504 non-null    object \n",
      " 45  20,5 Mbps   504 non-null    object \n",
      " 46  21 Mbps     504 non-null    object \n",
      " 47  22 Mbps     504 non-null    object \n",
      " 48  23 Mbps     504 non-null    object \n",
      " 49  24 Mbps     504 non-null    object \n",
      " 50  25 Mbps     504 non-null    object \n",
      " 51  25,1 Mbps   504 non-null    object \n",
      " 52  25,11 Mbps  504 non-null    object \n",
      " 53  25,5 Mbps   504 non-null    object \n",
      " 54  26 Mbps     504 non-null    object \n",
      " 55  27 Mbps     504 non-null    object \n",
      " 56  28 Mbps     504 non-null    object \n",
      " 57  29 Mbps     504 non-null    object \n",
      " 58  30 Mbps     504 non-null    object \n",
      " 59  31 Mbps     504 non-null    object \n",
      " 60  32 Mbps     504 non-null    object \n",
      " 61  34 Mbps     504 non-null    object \n",
      " 62  35 Mbps     504 non-null    object \n",
      " 63  36 Mbps     504 non-null    object \n",
      " 64  37 Mbps     504 non-null    object \n",
      " 65  38 Mbps     504 non-null    object \n",
      " 66  39 Mbps     504 non-null    object \n",
      " 67  40 Mbps     504 non-null    object \n",
      " 68  41 Mbps     504 non-null    object \n",
      " 69  45 Mbps     504 non-null    object \n",
      " 70  46 Mbps     504 non-null    object \n",
      " 71  47 Mbps     504 non-null    object \n",
      " 72  48 Mbps     504 non-null    object \n",
      " 73  49 Mbps     504 non-null    object \n",
      " 74  50 Mbps     504 non-null    object \n",
      " 75  50,1 Mbps   504 non-null    object \n",
      " 76  51 Mbps     504 non-null    object \n",
      " 77  50,25 Mbps  504 non-null    object \n",
      " 78  52 Mbps     504 non-null    object \n",
      " 79  54 Mbps     504 non-null    object \n",
      " 80  55 Mbps     504 non-null    object \n",
      " 81  56 Mbps     504 non-null    object \n",
      " 82  58 Mbps     504 non-null    object \n",
      " 83  59 Mbps     504 non-null    object \n",
      " 84  60 Mbps     504 non-null    object \n",
      " 85  61 Mbps     504 non-null    object \n",
      " 86  62 Mbps     504 non-null    object \n",
      " 87  63 Mbps     504 non-null    object \n",
      " 88  64 Mbps     504 non-null    object \n",
      " 89  65 Mbps     504 non-null    object \n",
      " 90  66 Mbps     504 non-null    object \n",
      " 91  67 Mbps     504 non-null    object \n",
      " 92  68 Mbps     504 non-null    object \n",
      " 93  70 Mbps     504 non-null    object \n",
      " 94  71 Mbps     504 non-null    object \n",
      " 95  75 Mbps     504 non-null    object \n",
      " 96  77 Mbps     504 non-null    object \n",
      "dtypes: float64(5), object(92)\n",
      "memory usage: 382.8+ KB\n"
     ]
    }
   ],
   "source": [
    "df4.info()"
   ]
  },
  {
   "cell_type": "code",
   "execution_count": 7,
   "metadata": {},
   "outputs": [
    {
     "name": "stdout",
     "output_type": "stream",
     "text": [
      "<class 'pandas.core.frame.DataFrame'>\n",
      "RangeIndex: 3095 entries, 0 to 3094\n",
      "Data columns (total 83 columns):\n",
      " #   Column      Non-Null Count  Dtype  \n",
      "---  ------      --------------  -----  \n",
      " 0   Provincia   3095 non-null   object \n",
      " 1   Partido     3095 non-null   object \n",
      " 2   Localidad   3095 non-null   object \n",
      " 3   Link Indec  3095 non-null   object \n",
      " 4   Otros       962 non-null    float64\n",
      " 5   0,256 Mbps  28 non-null     float64\n",
      " 6   0,375 Mbps  1 non-null      float64\n",
      " 7   0,5 Mbps    643 non-null    float64\n",
      " 8   0,512 Mbps  523 non-null    float64\n",
      " 9   0,625 Mbps  1 non-null      float64\n",
      " 10  0,75 Mbps   284 non-null    float64\n",
      " 11  1 Mbps      891 non-null    float64\n",
      " 12  1,25 Mbps   1 non-null      float64\n",
      " 13  1,5 Mbps    15 non-null     float64\n",
      " 14  2 Mbps      722 non-null    float64\n",
      " 15  2,2 Mbps    1 non-null      float64\n",
      " 16  2,5 Mbps    4 non-null      float64\n",
      " 17  3 Mbps      1351 non-null   float64\n",
      " 18  3,3 Mbps    1 non-null      float64\n",
      " 19  3,5 Mbps    373 non-null    float64\n",
      " 20  4 Mbps      534 non-null    float64\n",
      " 21  4,5 Mbps    1 non-null      float64\n",
      " 22  5 Mbps      1003 non-null   float64\n",
      " 23  6 Mbps      1413 non-null   float64\n",
      " 24  6,4 Mbps    1 non-null      float64\n",
      " 25  7 Mbps      225 non-null    float64\n",
      " 26  7,5 Mbps    4 non-null      float64\n",
      " 27  8 Mbps      630 non-null    float64\n",
      " 28  9 Mbps      50 non-null     float64\n",
      " 29  10 Mbps     1731 non-null   float64\n",
      " 30  10,2 Mbps   1 non-null      float64\n",
      " 31  11 Mbps     27 non-null     float64\n",
      " 32  12 Mbps     306 non-null    float64\n",
      " 33  12,3 Mbps   1 non-null      float64\n",
      " 34  13 Mbps     16 non-null     float64\n",
      " 35  14 Mbps     24 non-null     float64\n",
      " 36  15 Mbps     1061 non-null   float64\n",
      " 37  16 Mbps     16 non-null     float64\n",
      " 38  17 Mbps     1 non-null      float64\n",
      " 39  18 Mbps     20 non-null     float64\n",
      " 40  20 Mbps     1106 non-null   float64\n",
      " 41  20,5 Mbps   1 non-null      float64\n",
      " 42  21 Mbps     5 non-null      float64\n",
      " 43  22 Mbps     2 non-null      float64\n",
      " 44  23 Mbps     2 non-null      float64\n",
      " 45  24 Mbps     19 non-null     float64\n",
      " 46  25 Mbps     457 non-null    float64\n",
      " 47  25,1 Mbps   1 non-null      float64\n",
      " 48  25,5 Mbps   1 non-null      float64\n",
      " 49  26 Mbps     1 non-null      float64\n",
      " 50  27 Mbps     1 non-null      float64\n",
      " 51  30 Mbps     724 non-null    float64\n",
      " 52  31 Mbps     4 non-null      float64\n",
      " 53  32 Mbps     2 non-null      float64\n",
      " 54  34 Mbps     1 non-null      float64\n",
      " 55  35 Mbps     13 non-null     float64\n",
      " 56  36 Mbps     3 non-null      float64\n",
      " 57  38 Mbps     1 non-null      float64\n",
      " 58  39 Mbps     1 non-null      float64\n",
      " 59  40 Mbps     98 non-null     float64\n",
      " 60  41 Mbps     1 non-null      float64\n",
      " 61  45 Mbps     3 non-null      float64\n",
      " 62  46 Mbps     1 non-null      float64\n",
      " 63  48 Mbps     4 non-null      float64\n",
      " 64  49 Mbps     1 non-null      float64\n",
      " 65  50 Mbps     692 non-null    float64\n",
      " 66  50,1 Mbps   1 non-null      float64\n",
      " 67  50,25 Mbps  1 non-null      float64\n",
      " 68  51 Mbps     2 non-null      float64\n",
      " 69  55 Mbps     3 non-null      float64\n",
      " 70  58 Mbps     1 non-null      float64\n",
      " 71  59 Mbps     1 non-null      float64\n",
      " 72  60 Mbps     261 non-null    float64\n",
      " 73  61 Mbps     3 non-null      float64\n",
      " 74  62 Mbps     1 non-null      float64\n",
      " 75  64 Mbps     1 non-null      float64\n",
      " 76  65 Mbps     2 non-null      float64\n",
      " 77  66 Mbps     1 non-null      float64\n",
      " 78  70 Mbps     17 non-null     float64\n",
      " 79  75 Mbps     231 non-null    float64\n",
      " 80  78 Mbps     1 non-null      float64\n",
      " 81  80 Mbps     31 non-null     float64\n",
      " 82  83 Mbps     1 non-null      float64\n",
      "dtypes: float64(79), object(4)\n",
      "memory usage: 2.0+ MB\n"
     ]
    }
   ],
   "source": [
    "df5.info()"
   ]
  },
  {
   "cell_type": "code",
   "execution_count": 8,
   "metadata": {},
   "outputs": [
    {
     "name": "stdout",
     "output_type": "stream",
     "text": [
      "<class 'pandas.core.frame.DataFrame'>\n",
      "RangeIndex: 865 entries, 0 to 864\n",
      "Data columns (total 9 columns):\n",
      " #   Column        Non-Null Count  Dtype  \n",
      "---  ------        --------------  -----  \n",
      " 0   Año           865 non-null    object \n",
      " 1   Trimestre     865 non-null    object \n",
      " 2   Provincia     864 non-null    object \n",
      " 3   ADSL          864 non-null    float64\n",
      " 4   Cablemodem    864 non-null    float64\n",
      " 5   Fibra óptica  864 non-null    float64\n",
      " 6   Wireless      864 non-null    float64\n",
      " 7   Otros         864 non-null    float64\n",
      " 8   Total         864 non-null    float64\n",
      "dtypes: float64(6), object(3)\n",
      "memory usage: 60.9+ KB\n"
     ]
    }
   ],
   "source": [
    "df6.info()"
   ]
  },
  {
   "cell_type": "code",
   "execution_count": 9,
   "metadata": {},
   "outputs": [
    {
     "name": "stdout",
     "output_type": "stream",
     "text": [
      "<class 'pandas.core.frame.DataFrame'>\n",
      "RangeIndex: 36 entries, 0 to 35\n",
      "Data columns (total 9 columns):\n",
      " #   Column        Non-Null Count  Dtype \n",
      "---  ------        --------------  ----- \n",
      " 0   Año           36 non-null     int64 \n",
      " 1   Trimestre     36 non-null     int64 \n",
      " 2   ADSL          36 non-null     int64 \n",
      " 3   Cablemodem    36 non-null     int64 \n",
      " 4   Fibra óptica  36 non-null     int64 \n",
      " 5   Wireless      36 non-null     int64 \n",
      " 6   Otros         36 non-null     int64 \n",
      " 7   Total         36 non-null     int64 \n",
      " 8   Periodo       36 non-null     object\n",
      "dtypes: int64(8), object(1)\n",
      "memory usage: 2.7+ KB\n"
     ]
    }
   ],
   "source": [
    "df7.info()"
   ]
  },
  {
   "cell_type": "code",
   "execution_count": 10,
   "metadata": {},
   "outputs": [
    {
     "name": "stdout",
     "output_type": "stream",
     "text": [
      "<class 'pandas.core.frame.DataFrame'>\n",
      "RangeIndex: 864 entries, 0 to 863\n",
      "Data columns (total 12 columns):\n",
      " #   Column               Non-Null Count  Dtype  \n",
      "---  ------               --------------  -----  \n",
      " 0   Año                  864 non-null    int64  \n",
      " 1   Trimestre            864 non-null    int64  \n",
      " 2   Provincia            864 non-null    object \n",
      " 3   HASTA 512 kbps       864 non-null    float64\n",
      " 4   + 512 Kbps - 1 Mbps  864 non-null    float64\n",
      " 5   + 1 Mbps - 6 Mbps    864 non-null    object \n",
      " 6   + 6 Mbps - 10 Mbps   864 non-null    float64\n",
      " 7   + 10 Mbps - 20 Mbps  864 non-null    float64\n",
      " 8   + 20 Mbps - 30 Mbps  864 non-null    float64\n",
      " 9   + 30 Mbps            864 non-null    object \n",
      " 10  OTROS                858 non-null    float64\n",
      " 11  Total                864 non-null    object \n",
      "dtypes: float64(6), int64(2), object(4)\n",
      "memory usage: 81.1+ KB\n"
     ]
    }
   ],
   "source": [
    "df8.info()"
   ]
  },
  {
   "cell_type": "code",
   "execution_count": 11,
   "metadata": {},
   "outputs": [
    {
     "name": "stdout",
     "output_type": "stream",
     "text": [
      "<class 'pandas.core.frame.DataFrame'>\n",
      "RangeIndex: 36 entries, 0 to 35\n",
      "Data columns (total 11 columns):\n",
      " #   Column                   Non-Null Count  Dtype  \n",
      "---  ------                   --------------  -----  \n",
      " 0   Año                      36 non-null     int64  \n",
      " 1   Trimestre                36 non-null     int64  \n",
      " 2   Hasta 512 kbps           36 non-null     float64\n",
      " 3   Entre 512 Kbps y 1 Mbps  36 non-null     float64\n",
      " 4   Entre 1 Mbps y 6 Mbps    36 non-null     object \n",
      " 5   Entre 6 Mbps y 10 Mbps   36 non-null     object \n",
      " 6   Entre 10 Mbps y 20 Mbps  36 non-null     object \n",
      " 7   Entre 20 Mbps y 30 Mbps  36 non-null     object \n",
      " 8   Más de 30 Mbps           36 non-null     object \n",
      " 9   OTROS                    36 non-null     float64\n",
      " 10  Total                    36 non-null     object \n",
      "dtypes: float64(3), int64(2), object(6)\n",
      "memory usage: 3.2+ KB\n",
      "<class 'pandas.core.frame.DataFrame'>\n",
      "RangeIndex: 36 entries, 0 to 35\n",
      "Data columns (total 4 columns):\n",
      " #   Column                     Non-Null Count  Dtype \n",
      "---  ------                     --------------  ----- \n",
      " 0   Año                        36 non-null     int64 \n",
      " 1   Trimestre                  36 non-null     int64 \n",
      " 2   Ingresos (miles de pesos)  36 non-null     int64 \n",
      " 3   Periodo                    36 non-null     object\n",
      "dtypes: int64(3), object(1)\n",
      "memory usage: 1.3+ KB\n"
     ]
    }
   ],
   "source": [
    "df9.info()\n",
    "df10.info()"
   ]
  },
  {
   "cell_type": "code",
   "execution_count": 12,
   "metadata": {},
   "outputs": [
    {
     "name": "stdout",
     "output_type": "stream",
     "text": [
      "<class 'pandas.core.frame.DataFrame'>\n",
      "RangeIndex: 864 entries, 0 to 863\n",
      "Data columns (total 7 columns):\n",
      " #   Column                        Non-Null Count  Dtype  \n",
      "---  ------                        --------------  -----  \n",
      " 0   Año                           864 non-null    int64  \n",
      " 1   Trimestre                     864 non-null    int64  \n",
      " 2   Provincia                     864 non-null    object \n",
      " 3   Accesos por cada 100 hogares  864 non-null    object \n",
      " 4   Unnamed: 4                    0 non-null      float64\n",
      " 5   Unnamed: 5                    0 non-null      float64\n",
      " 6   Unnamed: 6                    0 non-null      float64\n",
      "dtypes: float64(3), int64(2), object(2)\n",
      "memory usage: 47.4+ KB\n",
      "<class 'pandas.core.frame.DataFrame'>\n",
      "RangeIndex: 36 entries, 0 to 35\n",
      "Data columns (total 5 columns):\n",
      " #   Column                        Non-Null Count  Dtype \n",
      "---  ------                        --------------  ----- \n",
      " 0   Año                           36 non-null     int64 \n",
      " 1   Trimestre                     36 non-null     int64 \n",
      " 2   Accesos por cada 100 hogares  36 non-null     object\n",
      " 3   Accesos por cada 100 hab      36 non-null     object\n",
      " 4   Periodo                       36 non-null     object\n",
      "dtypes: int64(2), object(3)\n",
      "memory usage: 1.5+ KB\n"
     ]
    }
   ],
   "source": [
    "df11.info()\n",
    "df12.info()"
   ]
  },
  {
   "cell_type": "code",
   "execution_count": 13,
   "metadata": {},
   "outputs": [
    {
     "name": "stdout",
     "output_type": "stream",
     "text": [
      "<class 'pandas.core.frame.DataFrame'>\n",
      "RangeIndex: 4311 entries, 0 to 4310\n",
      "Data columns (total 12 columns):\n",
      " #   Column          Non-Null Count  Dtype \n",
      "---  ------          --------------  ----- \n",
      " 0   Provincia       4311 non-null   object\n",
      " 1   Partido         4311 non-null   object\n",
      " 2   Localidad       4311 non-null   object\n",
      " 3   ADSL            4311 non-null   object\n",
      " 4   Cablemódem      4311 non-null   object\n",
      " 5   Dial Up         4311 non-null   object\n",
      " 6   Fibra óptica    4311 non-null   object\n",
      " 7   4G              4311 non-null   object\n",
      " 8   3G              4311 non-null   object\n",
      " 9   Telefonía Fija  4311 non-null   object\n",
      " 10  Wireless        4311 non-null   object\n",
      " 11  Satelital       4311 non-null   object\n",
      "dtypes: object(12)\n",
      "memory usage: 404.3+ KB\n"
     ]
    }
   ],
   "source": [
    "df13.info()"
   ]
  },
  {
   "cell_type": "code",
   "execution_count": 14,
   "metadata": {},
   "outputs": [
    {
     "name": "stdout",
     "output_type": "stream",
     "text": [
      "<class 'pandas.core.frame.DataFrame'>\n",
      "RangeIndex: 864 entries, 0 to 863\n",
      "Data columns (total 4 columns):\n",
      " #   Column                  Non-Null Count  Dtype  \n",
      "---  ------                  --------------  -----  \n",
      " 0   Año                     864 non-null    int64  \n",
      " 1   Trimestre               864 non-null    int64  \n",
      " 2   Provincia               864 non-null    object \n",
      " 3   Mbps (Media de bajada)  864 non-null    float64\n",
      "dtypes: float64(1), int64(2), object(1)\n",
      "memory usage: 27.1+ KB\n",
      "<class 'pandas.core.frame.DataFrame'>\n",
      "RangeIndex: 36 entries, 0 to 35\n",
      "Data columns (total 4 columns):\n",
      " #   Column                  Non-Null Count  Dtype  \n",
      "---  ------                  --------------  -----  \n",
      " 0   Año                     36 non-null     int64  \n",
      " 1   Trimestre               36 non-null     int64  \n",
      " 2   Mbps (Media de bajada)  36 non-null     float64\n",
      " 3   Trimestre.1             36 non-null     object \n",
      "dtypes: float64(1), int64(2), object(1)\n",
      "memory usage: 1.3+ KB\n"
     ]
    }
   ],
   "source": [
    "df14.info()\n",
    "df15.info()"
   ]
  },
  {
   "cell_type": "markdown",
   "metadata": {},
   "source": [
    "Datos estadisticos de cada dataset + eliminacion de columnas innecesarias"
   ]
  },
  {
   "cell_type": "code",
   "execution_count": 15,
   "metadata": {},
   "outputs": [
    {
     "data": {
      "text/html": [
       "<div>\n",
       "<style scoped>\n",
       "    .dataframe tbody tr th:only-of-type {\n",
       "        vertical-align: middle;\n",
       "    }\n",
       "\n",
       "    .dataframe tbody tr th {\n",
       "        vertical-align: top;\n",
       "    }\n",
       "\n",
       "    .dataframe thead th {\n",
       "        text-align: right;\n",
       "    }\n",
       "</style>\n",
       "<table border=\"1\" class=\"dataframe\">\n",
       "  <thead>\n",
       "    <tr style=\"text-align: right;\">\n",
       "      <th></th>\n",
       "      <th>Año</th>\n",
       "      <th>Trimestre</th>\n",
       "      <th>Banda ancha fija</th>\n",
       "      <th>Dial up</th>\n",
       "      <th>Total</th>\n",
       "    </tr>\n",
       "  </thead>\n",
       "  <tbody>\n",
       "    <tr>\n",
       "      <th>count</th>\n",
       "      <td>36.000000</td>\n",
       "      <td>36.000000</td>\n",
       "      <td>36.000000</td>\n",
       "      <td>36.000000</td>\n",
       "      <td>36.000000</td>\n",
       "    </tr>\n",
       "    <tr>\n",
       "      <th>mean</th>\n",
       "      <td>2018.000000</td>\n",
       "      <td>2.500000</td>\n",
       "      <td>8.361111</td>\n",
       "      <td>23.083333</td>\n",
       "      <td>8.361111</td>\n",
       "    </tr>\n",
       "    <tr>\n",
       "      <th>std</th>\n",
       "      <td>2.618615</td>\n",
       "      <td>1.133893</td>\n",
       "      <td>1.495761</td>\n",
       "      <td>10.171037</td>\n",
       "      <td>1.495761</td>\n",
       "    </tr>\n",
       "    <tr>\n",
       "      <th>min</th>\n",
       "      <td>2014.000000</td>\n",
       "      <td>1.000000</td>\n",
       "      <td>6.000000</td>\n",
       "      <td>10.000000</td>\n",
       "      <td>6.000000</td>\n",
       "    </tr>\n",
       "    <tr>\n",
       "      <th>25%</th>\n",
       "      <td>2016.000000</td>\n",
       "      <td>1.750000</td>\n",
       "      <td>7.000000</td>\n",
       "      <td>12.000000</td>\n",
       "      <td>7.000000</td>\n",
       "    </tr>\n",
       "    <tr>\n",
       "      <th>50%</th>\n",
       "      <td>2018.000000</td>\n",
       "      <td>2.500000</td>\n",
       "      <td>8.000000</td>\n",
       "      <td>27.000000</td>\n",
       "      <td>8.000000</td>\n",
       "    </tr>\n",
       "    <tr>\n",
       "      <th>75%</th>\n",
       "      <td>2020.000000</td>\n",
       "      <td>3.250000</td>\n",
       "      <td>9.250000</td>\n",
       "      <td>32.250000</td>\n",
       "      <td>9.250000</td>\n",
       "    </tr>\n",
       "    <tr>\n",
       "      <th>max</th>\n",
       "      <td>2022.000000</td>\n",
       "      <td>4.000000</td>\n",
       "      <td>11.000000</td>\n",
       "      <td>39.000000</td>\n",
       "      <td>11.000000</td>\n",
       "    </tr>\n",
       "  </tbody>\n",
       "</table>\n",
       "</div>"
      ],
      "text/plain": [
       "               Año  Trimestre  Banda ancha fija    Dial up      Total\n",
       "count    36.000000  36.000000         36.000000  36.000000  36.000000\n",
       "mean   2018.000000   2.500000          8.361111  23.083333   8.361111\n",
       "std       2.618615   1.133893          1.495761  10.171037   1.495761\n",
       "min    2014.000000   1.000000          6.000000  10.000000   6.000000\n",
       "25%    2016.000000   1.750000          7.000000  12.000000   7.000000\n",
       "50%    2018.000000   2.500000          8.000000  27.000000   8.000000\n",
       "75%    2020.000000   3.250000          9.250000  32.250000   9.250000\n",
       "max    2022.000000   4.000000         11.000000  39.000000  11.000000"
      ]
     },
     "execution_count": 15,
     "metadata": {},
     "output_type": "execute_result"
    }
   ],
   "source": [
    "df.describe()"
   ]
  },
  {
   "cell_type": "markdown",
   "metadata": {},
   "source": [
    "En el df2 podemos encontrar algunos outliers en las columnas: \"Banda ancha fija\", \"Dial up\" y \"Total\", estos outliers no pueden considerarse errores por tanto los voy a dejar tal cual como estan, pero vi necesario mencionar la presencia de estos en este dataframe"
   ]
  },
  {
   "cell_type": "code",
   "execution_count": 16,
   "metadata": {},
   "outputs": [
    {
     "data": {
      "text/html": [
       "<div>\n",
       "<style scoped>\n",
       "    .dataframe tbody tr th:only-of-type {\n",
       "        vertical-align: middle;\n",
       "    }\n",
       "\n",
       "    .dataframe tbody tr th {\n",
       "        vertical-align: top;\n",
       "    }\n",
       "\n",
       "    .dataframe thead th {\n",
       "        text-align: right;\n",
       "    }\n",
       "</style>\n",
       "<table border=\"1\" class=\"dataframe\">\n",
       "  <thead>\n",
       "    <tr style=\"text-align: right;\">\n",
       "      <th></th>\n",
       "      <th>Año</th>\n",
       "      <th>Trimestre</th>\n",
       "      <th>Banda ancha fija</th>\n",
       "      <th>Dial up</th>\n",
       "      <th>Total</th>\n",
       "    </tr>\n",
       "  </thead>\n",
       "  <tbody>\n",
       "    <tr>\n",
       "      <th>count</th>\n",
       "      <td>864.000000</td>\n",
       "      <td>864.000000</td>\n",
       "      <td>864.000000</td>\n",
       "      <td>862.000000</td>\n",
       "      <td>864.000000</td>\n",
       "    </tr>\n",
       "    <tr>\n",
       "      <th>mean</th>\n",
       "      <td>2018.000000</td>\n",
       "      <td>2.500000</td>\n",
       "      <td>137.326389</td>\n",
       "      <td>150.595128</td>\n",
       "      <td>137.636574</td>\n",
       "    </tr>\n",
       "    <tr>\n",
       "      <th>std</th>\n",
       "      <td>2.583484</td>\n",
       "      <td>1.118682</td>\n",
       "      <td>180.812265</td>\n",
       "      <td>230.167337</td>\n",
       "      <td>180.798813</td>\n",
       "    </tr>\n",
       "    <tr>\n",
       "      <th>min</th>\n",
       "      <td>2014.000000</td>\n",
       "      <td>1.000000</td>\n",
       "      <td>1.000000</td>\n",
       "      <td>0.000000</td>\n",
       "      <td>1.000000</td>\n",
       "    </tr>\n",
       "    <tr>\n",
       "      <th>25%</th>\n",
       "      <td>2016.000000</td>\n",
       "      <td>1.750000</td>\n",
       "      <td>39.000000</td>\n",
       "      <td>2.000000</td>\n",
       "      <td>39.750000</td>\n",
       "    </tr>\n",
       "    <tr>\n",
       "      <th>50%</th>\n",
       "      <td>2018.000000</td>\n",
       "      <td>2.500000</td>\n",
       "      <td>90.500000</td>\n",
       "      <td>16.000000</td>\n",
       "      <td>91.000000</td>\n",
       "    </tr>\n",
       "    <tr>\n",
       "      <th>75%</th>\n",
       "      <td>2020.000000</td>\n",
       "      <td>3.250000</td>\n",
       "      <td>143.000000</td>\n",
       "      <td>253.500000</td>\n",
       "      <td>143.250000</td>\n",
       "    </tr>\n",
       "    <tr>\n",
       "      <th>max</th>\n",
       "      <td>2022.000000</td>\n",
       "      <td>4.000000</td>\n",
       "      <td>987.000000</td>\n",
       "      <td>998.000000</td>\n",
       "      <td>987.000000</td>\n",
       "    </tr>\n",
       "  </tbody>\n",
       "</table>\n",
       "</div>"
      ],
      "text/plain": [
       "               Año   Trimestre  Banda ancha fija     Dial up       Total\n",
       "count   864.000000  864.000000        864.000000  862.000000  864.000000\n",
       "mean   2018.000000    2.500000        137.326389  150.595128  137.636574\n",
       "std       2.583484    1.118682        180.812265  230.167337  180.798813\n",
       "min    2014.000000    1.000000          1.000000    0.000000    1.000000\n",
       "25%    2016.000000    1.750000         39.000000    2.000000   39.750000\n",
       "50%    2018.000000    2.500000         90.500000   16.000000   91.000000\n",
       "75%    2020.000000    3.250000        143.000000  253.500000  143.250000\n",
       "max    2022.000000    4.000000        987.000000  998.000000  987.000000"
      ]
     },
     "execution_count": 16,
     "metadata": {},
     "output_type": "execute_result"
    }
   ],
   "source": [
    "df2.describe()"
   ]
  },
  {
   "cell_type": "code",
   "execution_count": 17,
   "metadata": {},
   "outputs": [
    {
     "data": {
      "text/html": [
       "<div>\n",
       "<style scoped>\n",
       "    .dataframe tbody tr th:only-of-type {\n",
       "        vertical-align: middle;\n",
       "    }\n",
       "\n",
       "    .dataframe tbody tr th {\n",
       "        vertical-align: top;\n",
       "    }\n",
       "\n",
       "    .dataframe thead th {\n",
       "        text-align: right;\n",
       "    }\n",
       "</style>\n",
       "<table border=\"1\" class=\"dataframe\">\n",
       "  <thead>\n",
       "    <tr style=\"text-align: right;\">\n",
       "      <th></th>\n",
       "      <th>Provincia</th>\n",
       "      <th>Partido</th>\n",
       "      <th>Localidad</th>\n",
       "      <th>Link Indec</th>\n",
       "      <th>ADSL</th>\n",
       "      <th>CABLEMODEM</th>\n",
       "      <th>DIAL UP</th>\n",
       "      <th>FIBRA OPTICA</th>\n",
       "      <th>OTROS</th>\n",
       "      <th>SATELITAL</th>\n",
       "      <th>WIMAX</th>\n",
       "      <th>WIRELESS</th>\n",
       "      <th>Total general</th>\n",
       "    </tr>\n",
       "  </thead>\n",
       "  <tbody>\n",
       "    <tr>\n",
       "      <th>count</th>\n",
       "      <td>3137</td>\n",
       "      <td>3137</td>\n",
       "      <td>3137</td>\n",
       "      <td>3137</td>\n",
       "      <td>3137</td>\n",
       "      <td>3137</td>\n",
       "      <td>3137</td>\n",
       "      <td>3137</td>\n",
       "      <td>3137</td>\n",
       "      <td>3137</td>\n",
       "      <td>3137</td>\n",
       "      <td>3137</td>\n",
       "      <td>3137</td>\n",
       "    </tr>\n",
       "    <tr>\n",
       "      <th>unique</th>\n",
       "      <td>24</td>\n",
       "      <td>432</td>\n",
       "      <td>2849</td>\n",
       "      <td>2714</td>\n",
       "      <td>644</td>\n",
       "      <td>634</td>\n",
       "      <td>87</td>\n",
       "      <td>674</td>\n",
       "      <td>215</td>\n",
       "      <td>31</td>\n",
       "      <td>13</td>\n",
       "      <td>582</td>\n",
       "      <td>1146</td>\n",
       "    </tr>\n",
       "    <tr>\n",
       "      <th>top</th>\n",
       "      <td>BUENOS AIRES</td>\n",
       "      <td>General Roca</td>\n",
       "      <td>OTROS</td>\n",
       "      <td>Sin Datos</td>\n",
       "      <td>- 0</td>\n",
       "      <td>- 0</td>\n",
       "      <td>- 0</td>\n",
       "      <td>- 0</td>\n",
       "      <td>- 0</td>\n",
       "      <td>- 0</td>\n",
       "      <td>- 0</td>\n",
       "      <td>- 0</td>\n",
       "      <td>1</td>\n",
       "    </tr>\n",
       "    <tr>\n",
       "      <th>freq</th>\n",
       "      <td>713</td>\n",
       "      <td>57</td>\n",
       "      <td>68</td>\n",
       "      <td>72</td>\n",
       "      <td>2014</td>\n",
       "      <td>2295</td>\n",
       "      <td>2756</td>\n",
       "      <td>1698</td>\n",
       "      <td>2531</td>\n",
       "      <td>2101</td>\n",
       "      <td>3125</td>\n",
       "      <td>913</td>\n",
       "      <td>177</td>\n",
       "    </tr>\n",
       "  </tbody>\n",
       "</table>\n",
       "</div>"
      ],
      "text/plain": [
       "           Provincia       Partido Localidad Link Indec  ADSL CABLEMODEM  \\\n",
       "count           3137          3137      3137       3137  3137       3137   \n",
       "unique            24           432      2849       2714   644        634   \n",
       "top     BUENOS AIRES  General Roca     OTROS  Sin Datos   - 0        - 0   \n",
       "freq             713            57        68         72  2014       2295   \n",
       "\n",
       "       DIAL UP FIBRA OPTICA OTROS SATELITAL WIMAX WIRELESS Total general  \n",
       "count     3137         3137  3137      3137  3137     3137          3137  \n",
       "unique      87          674   215        31    13      582          1146  \n",
       "top        - 0          - 0   - 0       - 0   - 0      - 0             1  \n",
       "freq      2756         1698  2531      2101  3125      913           177  "
      ]
     },
     "execution_count": 17,
     "metadata": {},
     "output_type": "execute_result"
    }
   ],
   "source": [
    "df3 = df3.drop(columns=(\"Unnamed: 13\"))\n",
    "df3.describe()\n"
   ]
  },
  {
   "cell_type": "code",
   "execution_count": 18,
   "metadata": {},
   "outputs": [
    {
     "data": {
      "text/html": [
       "<div>\n",
       "<style scoped>\n",
       "    .dataframe tbody tr th:only-of-type {\n",
       "        vertical-align: middle;\n",
       "    }\n",
       "\n",
       "    .dataframe tbody tr th {\n",
       "        vertical-align: top;\n",
       "    }\n",
       "\n",
       "    .dataframe thead th {\n",
       "        text-align: right;\n",
       "    }\n",
       "</style>\n",
       "<table border=\"1\" class=\"dataframe\">\n",
       "  <thead>\n",
       "    <tr style=\"text-align: right;\">\n",
       "      <th></th>\n",
       "      <th>Año</th>\n",
       "      <th>Trimestre</th>\n",
       "      <th>0,5 Mbps</th>\n",
       "      <th>3 Mbps</th>\n",
       "      <th>10 Mbps</th>\n",
       "    </tr>\n",
       "  </thead>\n",
       "  <tbody>\n",
       "    <tr>\n",
       "      <th>count</th>\n",
       "      <td>504.000000</td>\n",
       "      <td>504.000000</td>\n",
       "      <td>504.000000</td>\n",
       "      <td>504.000000</td>\n",
       "      <td>504.000000</td>\n",
       "    </tr>\n",
       "    <tr>\n",
       "      <th>mean</th>\n",
       "      <td>2019.857143</td>\n",
       "      <td>2.571429</td>\n",
       "      <td>135.160514</td>\n",
       "      <td>536.427409</td>\n",
       "      <td>1830.656857</td>\n",
       "    </tr>\n",
       "    <tr>\n",
       "      <th>std</th>\n",
       "      <td>1.522341</td>\n",
       "      <td>1.138019</td>\n",
       "      <td>1281.313402</td>\n",
       "      <td>3423.594162</td>\n",
       "      <td>13716.783075</td>\n",
       "    </tr>\n",
       "    <tr>\n",
       "      <th>min</th>\n",
       "      <td>2017.000000</td>\n",
       "      <td>1.000000</td>\n",
       "      <td>1.009000</td>\n",
       "      <td>1.029000</td>\n",
       "      <td>1.000000</td>\n",
       "    </tr>\n",
       "    <tr>\n",
       "      <th>25%</th>\n",
       "      <td>2019.000000</td>\n",
       "      <td>2.000000</td>\n",
       "      <td>19.000000</td>\n",
       "      <td>5.910000</td>\n",
       "      <td>7.161500</td>\n",
       "    </tr>\n",
       "    <tr>\n",
       "      <th>50%</th>\n",
       "      <td>2020.000000</td>\n",
       "      <td>3.000000</td>\n",
       "      <td>39.000000</td>\n",
       "      <td>9.833000</td>\n",
       "      <td>20.563500</td>\n",
       "    </tr>\n",
       "    <tr>\n",
       "      <th>75%</th>\n",
       "      <td>2021.000000</td>\n",
       "      <td>4.000000</td>\n",
       "      <td>69.000000</td>\n",
       "      <td>27.000000</td>\n",
       "      <td>92.386750</td>\n",
       "    </tr>\n",
       "    <tr>\n",
       "      <th>max</th>\n",
       "      <td>2022.000000</td>\n",
       "      <td>4.000000</td>\n",
       "      <td>28724.000000</td>\n",
       "      <td>53034.000000</td>\n",
       "      <td>204191.000000</td>\n",
       "    </tr>\n",
       "  </tbody>\n",
       "</table>\n",
       "</div>"
      ],
      "text/plain": [
       "               Año   Trimestre      0,5 Mbps        3 Mbps        10 Mbps\n",
       "count   504.000000  504.000000    504.000000    504.000000     504.000000\n",
       "mean   2019.857143    2.571429    135.160514    536.427409    1830.656857\n",
       "std       1.522341    1.138019   1281.313402   3423.594162   13716.783075\n",
       "min    2017.000000    1.000000      1.009000      1.029000       1.000000\n",
       "25%    2019.000000    2.000000     19.000000      5.910000       7.161500\n",
       "50%    2020.000000    3.000000     39.000000      9.833000      20.563500\n",
       "75%    2021.000000    4.000000     69.000000     27.000000      92.386750\n",
       "max    2022.000000    4.000000  28724.000000  53034.000000  204191.000000"
      ]
     },
     "execution_count": 18,
     "metadata": {},
     "output_type": "execute_result"
    }
   ],
   "source": [
    "df4.describe()"
   ]
  },
  {
   "cell_type": "code",
   "execution_count": 19,
   "metadata": {},
   "outputs": [
    {
     "data": {
      "text/html": [
       "<div>\n",
       "<style scoped>\n",
       "    .dataframe tbody tr th:only-of-type {\n",
       "        vertical-align: middle;\n",
       "    }\n",
       "\n",
       "    .dataframe tbody tr th {\n",
       "        vertical-align: top;\n",
       "    }\n",
       "\n",
       "    .dataframe thead th {\n",
       "        text-align: right;\n",
       "    }\n",
       "</style>\n",
       "<table border=\"1\" class=\"dataframe\">\n",
       "  <thead>\n",
       "    <tr style=\"text-align: right;\">\n",
       "      <th></th>\n",
       "      <th>Otros</th>\n",
       "      <th>0,256 Mbps</th>\n",
       "      <th>0,375 Mbps</th>\n",
       "      <th>0,5 Mbps</th>\n",
       "      <th>0,512 Mbps</th>\n",
       "      <th>0,625 Mbps</th>\n",
       "      <th>0,75 Mbps</th>\n",
       "      <th>1 Mbps</th>\n",
       "      <th>1,25 Mbps</th>\n",
       "      <th>1,5 Mbps</th>\n",
       "      <th>...</th>\n",
       "      <th>61 Mbps</th>\n",
       "      <th>62 Mbps</th>\n",
       "      <th>64 Mbps</th>\n",
       "      <th>65 Mbps</th>\n",
       "      <th>66 Mbps</th>\n",
       "      <th>70 Mbps</th>\n",
       "      <th>75 Mbps</th>\n",
       "      <th>78 Mbps</th>\n",
       "      <th>80 Mbps</th>\n",
       "      <th>83 Mbps</th>\n",
       "    </tr>\n",
       "  </thead>\n",
       "  <tbody>\n",
       "    <tr>\n",
       "      <th>count</th>\n",
       "      <td>962.000000</td>\n",
       "      <td>28.000000</td>\n",
       "      <td>1.0</td>\n",
       "      <td>643.000000</td>\n",
       "      <td>523.000000</td>\n",
       "      <td>1.0</td>\n",
       "      <td>284.000000</td>\n",
       "      <td>891.000000</td>\n",
       "      <td>1.0</td>\n",
       "      <td>15.000000</td>\n",
       "      <td>...</td>\n",
       "      <td>3.000000</td>\n",
       "      <td>1.0</td>\n",
       "      <td>1.0</td>\n",
       "      <td>2.000000</td>\n",
       "      <td>1.0</td>\n",
       "      <td>17.000000</td>\n",
       "      <td>231.000000</td>\n",
       "      <td>1.0</td>\n",
       "      <td>31.000000</td>\n",
       "      <td>1.0</td>\n",
       "    </tr>\n",
       "    <tr>\n",
       "      <th>mean</th>\n",
       "      <td>50.369203</td>\n",
       "      <td>3.464286</td>\n",
       "      <td>225.0</td>\n",
       "      <td>4.141316</td>\n",
       "      <td>2.214149</td>\n",
       "      <td>111.0</td>\n",
       "      <td>34.990518</td>\n",
       "      <td>54.715587</td>\n",
       "      <td>25.0</td>\n",
       "      <td>54.611333</td>\n",
       "      <td>...</td>\n",
       "      <td>26.000000</td>\n",
       "      <td>1.0</td>\n",
       "      <td>4.0</td>\n",
       "      <td>7.000000</td>\n",
       "      <td>1.0</td>\n",
       "      <td>65.386588</td>\n",
       "      <td>235.630571</td>\n",
       "      <td>2.0</td>\n",
       "      <td>109.028774</td>\n",
       "      <td>1.0</td>\n",
       "    </tr>\n",
       "    <tr>\n",
       "      <th>std</th>\n",
       "      <td>124.276225</td>\n",
       "      <td>6.511995</td>\n",
       "      <td>NaN</td>\n",
       "      <td>20.820317</td>\n",
       "      <td>5.000386</td>\n",
       "      <td>NaN</td>\n",
       "      <td>91.461942</td>\n",
       "      <td>113.513534</td>\n",
       "      <td>NaN</td>\n",
       "      <td>51.538753</td>\n",
       "      <td>...</td>\n",
       "      <td>6.244998</td>\n",
       "      <td>NaN</td>\n",
       "      <td>NaN</td>\n",
       "      <td>8.485281</td>\n",
       "      <td>NaN</td>\n",
       "      <td>140.742674</td>\n",
       "      <td>233.348746</td>\n",
       "      <td>NaN</td>\n",
       "      <td>238.166693</td>\n",
       "      <td>NaN</td>\n",
       "    </tr>\n",
       "    <tr>\n",
       "      <th>min</th>\n",
       "      <td>-4.000000</td>\n",
       "      <td>1.000000</td>\n",
       "      <td>225.0</td>\n",
       "      <td>0.000000</td>\n",
       "      <td>1.000000</td>\n",
       "      <td>111.0</td>\n",
       "      <td>1.000000</td>\n",
       "      <td>0.000000</td>\n",
       "      <td>25.0</td>\n",
       "      <td>1.170000</td>\n",
       "      <td>...</td>\n",
       "      <td>19.000000</td>\n",
       "      <td>1.0</td>\n",
       "      <td>4.0</td>\n",
       "      <td>1.000000</td>\n",
       "      <td>1.0</td>\n",
       "      <td>1.000000</td>\n",
       "      <td>1.000000</td>\n",
       "      <td>2.0</td>\n",
       "      <td>1.000000</td>\n",
       "      <td>1.0</td>\n",
       "    </tr>\n",
       "    <tr>\n",
       "      <th>25%</th>\n",
       "      <td>1.000000</td>\n",
       "      <td>1.000000</td>\n",
       "      <td>225.0</td>\n",
       "      <td>1.000000</td>\n",
       "      <td>1.000000</td>\n",
       "      <td>111.0</td>\n",
       "      <td>3.000000</td>\n",
       "      <td>2.031500</td>\n",
       "      <td>25.0</td>\n",
       "      <td>20.500000</td>\n",
       "      <td>...</td>\n",
       "      <td>23.500000</td>\n",
       "      <td>1.0</td>\n",
       "      <td>4.0</td>\n",
       "      <td>4.000000</td>\n",
       "      <td>1.0</td>\n",
       "      <td>2.000000</td>\n",
       "      <td>43.500000</td>\n",
       "      <td>2.0</td>\n",
       "      <td>2.807500</td>\n",
       "      <td>1.0</td>\n",
       "    </tr>\n",
       "    <tr>\n",
       "      <th>50%</th>\n",
       "      <td>4.000000</td>\n",
       "      <td>1.000000</td>\n",
       "      <td>225.0</td>\n",
       "      <td>1.000000</td>\n",
       "      <td>1.000000</td>\n",
       "      <td>111.0</td>\n",
       "      <td>9.000000</td>\n",
       "      <td>11.000000</td>\n",
       "      <td>25.0</td>\n",
       "      <td>42.000000</td>\n",
       "      <td>...</td>\n",
       "      <td>28.000000</td>\n",
       "      <td>1.0</td>\n",
       "      <td>4.0</td>\n",
       "      <td>7.000000</td>\n",
       "      <td>1.0</td>\n",
       "      <td>12.000000</td>\n",
       "      <td>173.000000</td>\n",
       "      <td>2.0</td>\n",
       "      <td>13.000000</td>\n",
       "      <td>1.0</td>\n",
       "    </tr>\n",
       "    <tr>\n",
       "      <th>75%</th>\n",
       "      <td>30.000000</td>\n",
       "      <td>3.000000</td>\n",
       "      <td>225.0</td>\n",
       "      <td>2.500000</td>\n",
       "      <td>1.000000</td>\n",
       "      <td>111.0</td>\n",
       "      <td>27.250000</td>\n",
       "      <td>47.000000</td>\n",
       "      <td>25.0</td>\n",
       "      <td>62.000000</td>\n",
       "      <td>...</td>\n",
       "      <td>29.500000</td>\n",
       "      <td>1.0</td>\n",
       "      <td>4.0</td>\n",
       "      <td>10.000000</td>\n",
       "      <td>1.0</td>\n",
       "      <td>91.000000</td>\n",
       "      <td>346.500000</td>\n",
       "      <td>2.0</td>\n",
       "      <td>88.500000</td>\n",
       "      <td>1.0</td>\n",
       "    </tr>\n",
       "    <tr>\n",
       "      <th>max</th>\n",
       "      <td>950.000000</td>\n",
       "      <td>31.000000</td>\n",
       "      <td>225.0</td>\n",
       "      <td>451.000000</td>\n",
       "      <td>61.000000</td>\n",
       "      <td>111.0</td>\n",
       "      <td>908.000000</td>\n",
       "      <td>994.000000</td>\n",
       "      <td>25.0</td>\n",
       "      <td>192.000000</td>\n",
       "      <td>...</td>\n",
       "      <td>31.000000</td>\n",
       "      <td>1.0</td>\n",
       "      <td>4.0</td>\n",
       "      <td>13.000000</td>\n",
       "      <td>1.0</td>\n",
       "      <td>582.000000</td>\n",
       "      <td>998.000000</td>\n",
       "      <td>2.0</td>\n",
       "      <td>952.000000</td>\n",
       "      <td>1.0</td>\n",
       "    </tr>\n",
       "  </tbody>\n",
       "</table>\n",
       "<p>8 rows × 79 columns</p>\n",
       "</div>"
      ],
      "text/plain": [
       "            Otros  0,256 Mbps  0,375 Mbps    0,5 Mbps  0,512 Mbps  0,625 Mbps  \\\n",
       "count  962.000000   28.000000         1.0  643.000000  523.000000         1.0   \n",
       "mean    50.369203    3.464286       225.0    4.141316    2.214149       111.0   \n",
       "std    124.276225    6.511995         NaN   20.820317    5.000386         NaN   \n",
       "min     -4.000000    1.000000       225.0    0.000000    1.000000       111.0   \n",
       "25%      1.000000    1.000000       225.0    1.000000    1.000000       111.0   \n",
       "50%      4.000000    1.000000       225.0    1.000000    1.000000       111.0   \n",
       "75%     30.000000    3.000000       225.0    2.500000    1.000000       111.0   \n",
       "max    950.000000   31.000000       225.0  451.000000   61.000000       111.0   \n",
       "\n",
       "        0,75 Mbps      1 Mbps  1,25 Mbps    1,5 Mbps  ...    61 Mbps  62 Mbps  \\\n",
       "count  284.000000  891.000000        1.0   15.000000  ...   3.000000      1.0   \n",
       "mean    34.990518   54.715587       25.0   54.611333  ...  26.000000      1.0   \n",
       "std     91.461942  113.513534        NaN   51.538753  ...   6.244998      NaN   \n",
       "min      1.000000    0.000000       25.0    1.170000  ...  19.000000      1.0   \n",
       "25%      3.000000    2.031500       25.0   20.500000  ...  23.500000      1.0   \n",
       "50%      9.000000   11.000000       25.0   42.000000  ...  28.000000      1.0   \n",
       "75%     27.250000   47.000000       25.0   62.000000  ...  29.500000      1.0   \n",
       "max    908.000000  994.000000       25.0  192.000000  ...  31.000000      1.0   \n",
       "\n",
       "       64 Mbps    65 Mbps  66 Mbps     70 Mbps     75 Mbps  78 Mbps  \\\n",
       "count      1.0   2.000000      1.0   17.000000  231.000000      1.0   \n",
       "mean       4.0   7.000000      1.0   65.386588  235.630571      2.0   \n",
       "std        NaN   8.485281      NaN  140.742674  233.348746      NaN   \n",
       "min        4.0   1.000000      1.0    1.000000    1.000000      2.0   \n",
       "25%        4.0   4.000000      1.0    2.000000   43.500000      2.0   \n",
       "50%        4.0   7.000000      1.0   12.000000  173.000000      2.0   \n",
       "75%        4.0  10.000000      1.0   91.000000  346.500000      2.0   \n",
       "max        4.0  13.000000      1.0  582.000000  998.000000      2.0   \n",
       "\n",
       "          80 Mbps  83 Mbps  \n",
       "count   31.000000      1.0  \n",
       "mean   109.028774      1.0  \n",
       "std    238.166693      NaN  \n",
       "min      1.000000      1.0  \n",
       "25%      2.807500      1.0  \n",
       "50%     13.000000      1.0  \n",
       "75%     88.500000      1.0  \n",
       "max    952.000000      1.0  \n",
       "\n",
       "[8 rows x 79 columns]"
      ]
     },
     "execution_count": 19,
     "metadata": {},
     "output_type": "execute_result"
    }
   ],
   "source": [
    "df5.describe()"
   ]
  },
  {
   "cell_type": "markdown",
   "metadata": {},
   "source": [
    "Los outliers presentes en este dataframe son iguales a los encontrados en el df2, no es necesario eliminarlos"
   ]
  },
  {
   "cell_type": "code",
   "execution_count": 20,
   "metadata": {},
   "outputs": [
    {
     "data": {
      "text/html": [
       "<div>\n",
       "<style scoped>\n",
       "    .dataframe tbody tr th:only-of-type {\n",
       "        vertical-align: middle;\n",
       "    }\n",
       "\n",
       "    .dataframe tbody tr th {\n",
       "        vertical-align: top;\n",
       "    }\n",
       "\n",
       "    .dataframe thead th {\n",
       "        text-align: right;\n",
       "    }\n",
       "</style>\n",
       "<table border=\"1\" class=\"dataframe\">\n",
       "  <thead>\n",
       "    <tr style=\"text-align: right;\">\n",
       "      <th></th>\n",
       "      <th>ADSL</th>\n",
       "      <th>Cablemodem</th>\n",
       "      <th>Fibra óptica</th>\n",
       "      <th>Wireless</th>\n",
       "      <th>Otros</th>\n",
       "      <th>Total</th>\n",
       "    </tr>\n",
       "  </thead>\n",
       "  <tbody>\n",
       "    <tr>\n",
       "      <th>count</th>\n",
       "      <td>864.000000</td>\n",
       "      <td>864.000000</td>\n",
       "      <td>864.000000</td>\n",
       "      <td>864.000000</td>\n",
       "      <td>864.000000</td>\n",
       "      <td>864.000000</td>\n",
       "    </tr>\n",
       "    <tr>\n",
       "      <th>mean</th>\n",
       "      <td>86.363426</td>\n",
       "      <td>103.291667</td>\n",
       "      <td>165.432870</td>\n",
       "      <td>57.777778</td>\n",
       "      <td>102.712963</td>\n",
       "      <td>137.636574</td>\n",
       "    </tr>\n",
       "    <tr>\n",
       "      <th>std</th>\n",
       "      <td>116.431490</td>\n",
       "      <td>188.849172</td>\n",
       "      <td>266.807807</td>\n",
       "      <td>156.015038</td>\n",
       "      <td>207.418981</td>\n",
       "      <td>180.798813</td>\n",
       "    </tr>\n",
       "    <tr>\n",
       "      <th>min</th>\n",
       "      <td>1.000000</td>\n",
       "      <td>0.000000</td>\n",
       "      <td>0.000000</td>\n",
       "      <td>0.000000</td>\n",
       "      <td>1.000000</td>\n",
       "      <td>1.000000</td>\n",
       "    </tr>\n",
       "    <tr>\n",
       "      <th>25%</th>\n",
       "      <td>21.000000</td>\n",
       "      <td>9.000000</td>\n",
       "      <td>9.000000</td>\n",
       "      <td>4.000000</td>\n",
       "      <td>3.000000</td>\n",
       "      <td>39.750000</td>\n",
       "    </tr>\n",
       "    <tr>\n",
       "      <th>50%</th>\n",
       "      <td>46.000000</td>\n",
       "      <td>35.500000</td>\n",
       "      <td>25.000000</td>\n",
       "      <td>10.000000</td>\n",
       "      <td>15.000000</td>\n",
       "      <td>91.000000</td>\n",
       "    </tr>\n",
       "    <tr>\n",
       "      <th>75%</th>\n",
       "      <td>81.000000</td>\n",
       "      <td>72.250000</td>\n",
       "      <td>170.750000</td>\n",
       "      <td>26.000000</td>\n",
       "      <td>47.000000</td>\n",
       "      <td>143.250000</td>\n",
       "    </tr>\n",
       "    <tr>\n",
       "      <th>max</th>\n",
       "      <td>720.000000</td>\n",
       "      <td>999.000000</td>\n",
       "      <td>998.000000</td>\n",
       "      <td>952.000000</td>\n",
       "      <td>987.000000</td>\n",
       "      <td>987.000000</td>\n",
       "    </tr>\n",
       "  </tbody>\n",
       "</table>\n",
       "</div>"
      ],
      "text/plain": [
       "             ADSL  Cablemodem  Fibra óptica    Wireless       Otros  \\\n",
       "count  864.000000  864.000000    864.000000  864.000000  864.000000   \n",
       "mean    86.363426  103.291667    165.432870   57.777778  102.712963   \n",
       "std    116.431490  188.849172    266.807807  156.015038  207.418981   \n",
       "min      1.000000    0.000000      0.000000    0.000000    1.000000   \n",
       "25%     21.000000    9.000000      9.000000    4.000000    3.000000   \n",
       "50%     46.000000   35.500000     25.000000   10.000000   15.000000   \n",
       "75%     81.000000   72.250000    170.750000   26.000000   47.000000   \n",
       "max    720.000000  999.000000    998.000000  952.000000  987.000000   \n",
       "\n",
       "            Total  \n",
       "count  864.000000  \n",
       "mean   137.636574  \n",
       "std    180.798813  \n",
       "min      1.000000  \n",
       "25%     39.750000  \n",
       "50%     91.000000  \n",
       "75%    143.250000  \n",
       "max    987.000000  "
      ]
     },
     "execution_count": 20,
     "metadata": {},
     "output_type": "execute_result"
    }
   ],
   "source": [
    "df6.describe()"
   ]
  },
  {
   "cell_type": "code",
   "execution_count": 21,
   "metadata": {},
   "outputs": [
    {
     "data": {
      "text/html": [
       "<div>\n",
       "<style scoped>\n",
       "    .dataframe tbody tr th:only-of-type {\n",
       "        vertical-align: middle;\n",
       "    }\n",
       "\n",
       "    .dataframe tbody tr th {\n",
       "        vertical-align: top;\n",
       "    }\n",
       "\n",
       "    .dataframe thead th {\n",
       "        text-align: right;\n",
       "    }\n",
       "</style>\n",
       "<table border=\"1\" class=\"dataframe\">\n",
       "  <thead>\n",
       "    <tr style=\"text-align: right;\">\n",
       "      <th></th>\n",
       "      <th>Año</th>\n",
       "      <th>Trimestre</th>\n",
       "      <th>ADSL</th>\n",
       "      <th>Cablemodem</th>\n",
       "      <th>Fibra óptica</th>\n",
       "      <th>Wireless</th>\n",
       "      <th>Otros</th>\n",
       "      <th>Total</th>\n",
       "    </tr>\n",
       "  </thead>\n",
       "  <tbody>\n",
       "    <tr>\n",
       "      <th>count</th>\n",
       "      <td>36.000000</td>\n",
       "      <td>36.000000</td>\n",
       "      <td>36.000000</td>\n",
       "      <td>36.000000</td>\n",
       "      <td>36.000000</td>\n",
       "      <td>36.000000</td>\n",
       "      <td>36.000000</td>\n",
       "      <td>36.000000</td>\n",
       "    </tr>\n",
       "    <tr>\n",
       "      <th>mean</th>\n",
       "      <td>2018.000000</td>\n",
       "      <td>2.500000</td>\n",
       "      <td>3.083333</td>\n",
       "      <td>4.166667</td>\n",
       "      <td>193.361111</td>\n",
       "      <td>257.222222</td>\n",
       "      <td>149.500000</td>\n",
       "      <td>8.361111</td>\n",
       "    </tr>\n",
       "    <tr>\n",
       "      <th>std</th>\n",
       "      <td>2.618615</td>\n",
       "      <td>1.133893</td>\n",
       "      <td>1.079021</td>\n",
       "      <td>1.253566</td>\n",
       "      <td>239.714968</td>\n",
       "      <td>180.185319</td>\n",
       "      <td>85.497034</td>\n",
       "      <td>1.495761</td>\n",
       "    </tr>\n",
       "    <tr>\n",
       "      <th>min</th>\n",
       "      <td>2014.000000</td>\n",
       "      <td>1.000000</td>\n",
       "      <td>1.000000</td>\n",
       "      <td>2.000000</td>\n",
       "      <td>1.000000</td>\n",
       "      <td>71.000000</td>\n",
       "      <td>54.000000</td>\n",
       "      <td>6.000000</td>\n",
       "    </tr>\n",
       "    <tr>\n",
       "      <th>25%</th>\n",
       "      <td>2016.000000</td>\n",
       "      <td>1.750000</td>\n",
       "      <td>2.000000</td>\n",
       "      <td>3.000000</td>\n",
       "      <td>2.750000</td>\n",
       "      <td>85.000000</td>\n",
       "      <td>64.250000</td>\n",
       "      <td>7.000000</td>\n",
       "    </tr>\n",
       "    <tr>\n",
       "      <th>50%</th>\n",
       "      <td>2018.000000</td>\n",
       "      <td>2.500000</td>\n",
       "      <td>4.000000</td>\n",
       "      <td>4.000000</td>\n",
       "      <td>159.000000</td>\n",
       "      <td>220.000000</td>\n",
       "      <td>116.500000</td>\n",
       "      <td>8.000000</td>\n",
       "    </tr>\n",
       "    <tr>\n",
       "      <th>75%</th>\n",
       "      <td>2020.000000</td>\n",
       "      <td>3.250000</td>\n",
       "      <td>4.000000</td>\n",
       "      <td>5.000000</td>\n",
       "      <td>198.250000</td>\n",
       "      <td>415.250000</td>\n",
       "      <td>247.500000</td>\n",
       "      <td>9.250000</td>\n",
       "    </tr>\n",
       "    <tr>\n",
       "      <th>max</th>\n",
       "      <td>2022.000000</td>\n",
       "      <td>4.000000</td>\n",
       "      <td>4.000000</td>\n",
       "      <td>6.000000</td>\n",
       "      <td>941.000000</td>\n",
       "      <td>573.000000</td>\n",
       "      <td>265.000000</td>\n",
       "      <td>11.000000</td>\n",
       "    </tr>\n",
       "  </tbody>\n",
       "</table>\n",
       "</div>"
      ],
      "text/plain": [
       "               Año  Trimestre       ADSL  Cablemodem  Fibra óptica  \\\n",
       "count    36.000000  36.000000  36.000000   36.000000     36.000000   \n",
       "mean   2018.000000   2.500000   3.083333    4.166667    193.361111   \n",
       "std       2.618615   1.133893   1.079021    1.253566    239.714968   \n",
       "min    2014.000000   1.000000   1.000000    2.000000      1.000000   \n",
       "25%    2016.000000   1.750000   2.000000    3.000000      2.750000   \n",
       "50%    2018.000000   2.500000   4.000000    4.000000    159.000000   \n",
       "75%    2020.000000   3.250000   4.000000    5.000000    198.250000   \n",
       "max    2022.000000   4.000000   4.000000    6.000000    941.000000   \n",
       "\n",
       "         Wireless       Otros      Total  \n",
       "count   36.000000   36.000000  36.000000  \n",
       "mean   257.222222  149.500000   8.361111  \n",
       "std    180.185319   85.497034   1.495761  \n",
       "min     71.000000   54.000000   6.000000  \n",
       "25%     85.000000   64.250000   7.000000  \n",
       "50%    220.000000  116.500000   8.000000  \n",
       "75%    415.250000  247.500000   9.250000  \n",
       "max    573.000000  265.000000  11.000000  "
      ]
     },
     "execution_count": 21,
     "metadata": {},
     "output_type": "execute_result"
    }
   ],
   "source": [
    "df7.describe()"
   ]
  },
  {
   "cell_type": "markdown",
   "metadata": {},
   "source": [
    "Nuevamente presencia de outliers pero solo los ignoraremos"
   ]
  },
  {
   "cell_type": "code",
   "execution_count": 22,
   "metadata": {},
   "outputs": [
    {
     "data": {
      "text/html": [
       "<div>\n",
       "<style scoped>\n",
       "    .dataframe tbody tr th:only-of-type {\n",
       "        vertical-align: middle;\n",
       "    }\n",
       "\n",
       "    .dataframe tbody tr th {\n",
       "        vertical-align: top;\n",
       "    }\n",
       "\n",
       "    .dataframe thead th {\n",
       "        text-align: right;\n",
       "    }\n",
       "</style>\n",
       "<table border=\"1\" class=\"dataframe\">\n",
       "  <thead>\n",
       "    <tr style=\"text-align: right;\">\n",
       "      <th></th>\n",
       "      <th>Año</th>\n",
       "      <th>Trimestre</th>\n",
       "      <th>HASTA 512 kbps</th>\n",
       "      <th>+ 512 Kbps - 1 Mbps</th>\n",
       "      <th>+ 6 Mbps - 10 Mbps</th>\n",
       "      <th>+ 10 Mbps - 20 Mbps</th>\n",
       "      <th>+ 20 Mbps - 30 Mbps</th>\n",
       "      <th>OTROS</th>\n",
       "    </tr>\n",
       "  </thead>\n",
       "  <tbody>\n",
       "    <tr>\n",
       "      <th>count</th>\n",
       "      <td>864.000000</td>\n",
       "      <td>864.000000</td>\n",
       "      <td>864.000000</td>\n",
       "      <td>864.000000</td>\n",
       "      <td>864.000000</td>\n",
       "      <td>864.000000</td>\n",
       "      <td>864.000000</td>\n",
       "      <td>858.000000</td>\n",
       "    </tr>\n",
       "    <tr>\n",
       "      <th>mean</th>\n",
       "      <td>2018.000000</td>\n",
       "      <td>2.500000</td>\n",
       "      <td>126.069829</td>\n",
       "      <td>104.202722</td>\n",
       "      <td>70.717505</td>\n",
       "      <td>78.652155</td>\n",
       "      <td>99.993059</td>\n",
       "      <td>34.439517</td>\n",
       "    </tr>\n",
       "    <tr>\n",
       "      <th>std</th>\n",
       "      <td>2.583484</td>\n",
       "      <td>1.118682</td>\n",
       "      <td>186.417712</td>\n",
       "      <td>211.789353</td>\n",
       "      <td>138.831868</td>\n",
       "      <td>168.570068</td>\n",
       "      <td>207.349280</td>\n",
       "      <td>133.288022</td>\n",
       "    </tr>\n",
       "    <tr>\n",
       "      <th>min</th>\n",
       "      <td>2014.000000</td>\n",
       "      <td>1.000000</td>\n",
       "      <td>1.007000</td>\n",
       "      <td>0.000000</td>\n",
       "      <td>0.000000</td>\n",
       "      <td>0.000000</td>\n",
       "      <td>0.000000</td>\n",
       "      <td>-1.945000</td>\n",
       "    </tr>\n",
       "    <tr>\n",
       "      <th>25%</th>\n",
       "      <td>2016.000000</td>\n",
       "      <td>1.750000</td>\n",
       "      <td>11.000000</td>\n",
       "      <td>3.310750</td>\n",
       "      <td>5.410250</td>\n",
       "      <td>5.000000</td>\n",
       "      <td>2.091000</td>\n",
       "      <td>0.000000</td>\n",
       "    </tr>\n",
       "    <tr>\n",
       "      <th>50%</th>\n",
       "      <td>2018.000000</td>\n",
       "      <td>2.500000</td>\n",
       "      <td>51.000000</td>\n",
       "      <td>8.762000</td>\n",
       "      <td>20.208000</td>\n",
       "      <td>15.159000</td>\n",
       "      <td>11.042500</td>\n",
       "      <td>0.000000</td>\n",
       "    </tr>\n",
       "    <tr>\n",
       "      <th>75%</th>\n",
       "      <td>2020.000000</td>\n",
       "      <td>3.250000</td>\n",
       "      <td>133.250000</td>\n",
       "      <td>85.525500</td>\n",
       "      <td>61.934500</td>\n",
       "      <td>51.959500</td>\n",
       "      <td>64.286250</td>\n",
       "      <td>7.939750</td>\n",
       "    </tr>\n",
       "    <tr>\n",
       "      <th>max</th>\n",
       "      <td>2022.000000</td>\n",
       "      <td>4.000000</td>\n",
       "      <td>998.000000</td>\n",
       "      <td>999.000000</td>\n",
       "      <td>917.000000</td>\n",
       "      <td>978.000000</td>\n",
       "      <td>997.000000</td>\n",
       "      <td>989.000000</td>\n",
       "    </tr>\n",
       "  </tbody>\n",
       "</table>\n",
       "</div>"
      ],
      "text/plain": [
       "               Año   Trimestre  HASTA 512 kbps  + 512 Kbps - 1 Mbps  \\\n",
       "count   864.000000  864.000000      864.000000           864.000000   \n",
       "mean   2018.000000    2.500000      126.069829           104.202722   \n",
       "std       2.583484    1.118682      186.417712           211.789353   \n",
       "min    2014.000000    1.000000        1.007000             0.000000   \n",
       "25%    2016.000000    1.750000       11.000000             3.310750   \n",
       "50%    2018.000000    2.500000       51.000000             8.762000   \n",
       "75%    2020.000000    3.250000      133.250000            85.525500   \n",
       "max    2022.000000    4.000000      998.000000           999.000000   \n",
       "\n",
       "       + 6 Mbps - 10 Mbps  + 10 Mbps - 20 Mbps  + 20 Mbps - 30 Mbps  \\\n",
       "count          864.000000           864.000000           864.000000   \n",
       "mean            70.717505            78.652155            99.993059   \n",
       "std            138.831868           168.570068           207.349280   \n",
       "min              0.000000             0.000000             0.000000   \n",
       "25%              5.410250             5.000000             2.091000   \n",
       "50%             20.208000            15.159000            11.042500   \n",
       "75%             61.934500            51.959500            64.286250   \n",
       "max            917.000000           978.000000           997.000000   \n",
       "\n",
       "            OTROS  \n",
       "count  858.000000  \n",
       "mean    34.439517  \n",
       "std    133.288022  \n",
       "min     -1.945000  \n",
       "25%      0.000000  \n",
       "50%      0.000000  \n",
       "75%      7.939750  \n",
       "max    989.000000  "
      ]
     },
     "execution_count": 22,
     "metadata": {},
     "output_type": "execute_result"
    }
   ],
   "source": [
    "df8.describe()"
   ]
  },
  {
   "cell_type": "markdown",
   "metadata": {},
   "source": [
    "Pequeña presencia de outliers del mismo tipo que los anteriores, no obstaculizan el analisis"
   ]
  },
  {
   "cell_type": "code",
   "execution_count": 23,
   "metadata": {},
   "outputs": [
    {
     "data": {
      "text/html": [
       "<div>\n",
       "<style scoped>\n",
       "    .dataframe tbody tr th:only-of-type {\n",
       "        vertical-align: middle;\n",
       "    }\n",
       "\n",
       "    .dataframe tbody tr th {\n",
       "        vertical-align: top;\n",
       "    }\n",
       "\n",
       "    .dataframe thead th {\n",
       "        text-align: right;\n",
       "    }\n",
       "</style>\n",
       "<table border=\"1\" class=\"dataframe\">\n",
       "  <thead>\n",
       "    <tr style=\"text-align: right;\">\n",
       "      <th></th>\n",
       "      <th>Año</th>\n",
       "      <th>Trimestre</th>\n",
       "      <th>Hasta 512 kbps</th>\n",
       "      <th>Entre 512 Kbps y 1 Mbps</th>\n",
       "      <th>OTROS</th>\n",
       "    </tr>\n",
       "  </thead>\n",
       "  <tbody>\n",
       "    <tr>\n",
       "      <th>count</th>\n",
       "      <td>36.000000</td>\n",
       "      <td>36.000000</td>\n",
       "      <td>36.000000</td>\n",
       "      <td>36.000000</td>\n",
       "      <td>36.000000</td>\n",
       "    </tr>\n",
       "    <tr>\n",
       "      <th>mean</th>\n",
       "      <td>2018.000000</td>\n",
       "      <td>2.500000</td>\n",
       "      <td>49.571639</td>\n",
       "      <td>239.046083</td>\n",
       "      <td>126.059500</td>\n",
       "    </tr>\n",
       "    <tr>\n",
       "      <th>std</th>\n",
       "      <td>2.618615</td>\n",
       "      <td>1.133893</td>\n",
       "      <td>52.406959</td>\n",
       "      <td>198.205545</td>\n",
       "      <td>120.429286</td>\n",
       "    </tr>\n",
       "    <tr>\n",
       "      <th>min</th>\n",
       "      <td>2014.000000</td>\n",
       "      <td>1.000000</td>\n",
       "      <td>5.675000</td>\n",
       "      <td>28.521000</td>\n",
       "      <td>0.000000</td>\n",
       "    </tr>\n",
       "    <tr>\n",
       "      <th>25%</th>\n",
       "      <td>2016.000000</td>\n",
       "      <td>1.750000</td>\n",
       "      <td>28.412500</td>\n",
       "      <td>74.491750</td>\n",
       "      <td>0.000000</td>\n",
       "    </tr>\n",
       "    <tr>\n",
       "      <th>50%</th>\n",
       "      <td>2018.000000</td>\n",
       "      <td>2.500000</td>\n",
       "      <td>38.879500</td>\n",
       "      <td>216.701500</td>\n",
       "      <td>155.810000</td>\n",
       "    </tr>\n",
       "    <tr>\n",
       "      <th>75%</th>\n",
       "      <td>2020.000000</td>\n",
       "      <td>3.250000</td>\n",
       "      <td>41.184000</td>\n",
       "      <td>389.368250</td>\n",
       "      <td>199.011250</td>\n",
       "    </tr>\n",
       "    <tr>\n",
       "      <th>max</th>\n",
       "      <td>2022.000000</td>\n",
       "      <td>4.000000</td>\n",
       "      <td>241.713000</td>\n",
       "      <td>687.619000</td>\n",
       "      <td>394.282000</td>\n",
       "    </tr>\n",
       "  </tbody>\n",
       "</table>\n",
       "</div>"
      ],
      "text/plain": [
       "               Año  Trimestre  Hasta 512 kbps  Entre 512 Kbps y 1 Mbps  \\\n",
       "count    36.000000  36.000000       36.000000                36.000000   \n",
       "mean   2018.000000   2.500000       49.571639               239.046083   \n",
       "std       2.618615   1.133893       52.406959               198.205545   \n",
       "min    2014.000000   1.000000        5.675000                28.521000   \n",
       "25%    2016.000000   1.750000       28.412500                74.491750   \n",
       "50%    2018.000000   2.500000       38.879500               216.701500   \n",
       "75%    2020.000000   3.250000       41.184000               389.368250   \n",
       "max    2022.000000   4.000000      241.713000               687.619000   \n",
       "\n",
       "            OTROS  \n",
       "count   36.000000  \n",
       "mean   126.059500  \n",
       "std    120.429286  \n",
       "min      0.000000  \n",
       "25%      0.000000  \n",
       "50%    155.810000  \n",
       "75%    199.011250  \n",
       "max    394.282000  "
      ]
     },
     "execution_count": 23,
     "metadata": {},
     "output_type": "execute_result"
    }
   ],
   "source": [
    "df9.describe()"
   ]
  },
  {
   "cell_type": "markdown",
   "metadata": {},
   "source": [
    "Presencia minima de outliers, se lo ignora"
   ]
  },
  {
   "cell_type": "code",
   "execution_count": 24,
   "metadata": {},
   "outputs": [
    {
     "data": {
      "text/html": [
       "<div>\n",
       "<style scoped>\n",
       "    .dataframe tbody tr th:only-of-type {\n",
       "        vertical-align: middle;\n",
       "    }\n",
       "\n",
       "    .dataframe tbody tr th {\n",
       "        vertical-align: top;\n",
       "    }\n",
       "\n",
       "    .dataframe thead th {\n",
       "        text-align: right;\n",
       "    }\n",
       "</style>\n",
       "<table border=\"1\" class=\"dataframe\">\n",
       "  <thead>\n",
       "    <tr style=\"text-align: right;\">\n",
       "      <th></th>\n",
       "      <th>Año</th>\n",
       "      <th>Trimestre</th>\n",
       "      <th>Ingresos (miles de pesos)</th>\n",
       "    </tr>\n",
       "  </thead>\n",
       "  <tbody>\n",
       "    <tr>\n",
       "      <th>count</th>\n",
       "      <td>36.000000</td>\n",
       "      <td>36.000000</td>\n",
       "      <td>36.000000</td>\n",
       "    </tr>\n",
       "    <tr>\n",
       "      <th>mean</th>\n",
       "      <td>2018.000000</td>\n",
       "      <td>2.500000</td>\n",
       "      <td>21.888889</td>\n",
       "    </tr>\n",
       "    <tr>\n",
       "      <th>std</th>\n",
       "      <td>2.618615</td>\n",
       "      <td>1.133893</td>\n",
       "      <td>19.239510</td>\n",
       "    </tr>\n",
       "    <tr>\n",
       "      <th>min</th>\n",
       "      <td>2014.000000</td>\n",
       "      <td>1.000000</td>\n",
       "      <td>3.000000</td>\n",
       "    </tr>\n",
       "    <tr>\n",
       "      <th>25%</th>\n",
       "      <td>2016.000000</td>\n",
       "      <td>1.750000</td>\n",
       "      <td>6.750000</td>\n",
       "    </tr>\n",
       "    <tr>\n",
       "      <th>50%</th>\n",
       "      <td>2018.000000</td>\n",
       "      <td>2.500000</td>\n",
       "      <td>14.500000</td>\n",
       "    </tr>\n",
       "    <tr>\n",
       "      <th>75%</th>\n",
       "      <td>2020.000000</td>\n",
       "      <td>3.250000</td>\n",
       "      <td>32.500000</td>\n",
       "    </tr>\n",
       "    <tr>\n",
       "      <th>max</th>\n",
       "      <td>2022.000000</td>\n",
       "      <td>4.000000</td>\n",
       "      <td>72.000000</td>\n",
       "    </tr>\n",
       "  </tbody>\n",
       "</table>\n",
       "</div>"
      ],
      "text/plain": [
       "               Año  Trimestre  Ingresos (miles de pesos)\n",
       "count    36.000000  36.000000                  36.000000\n",
       "mean   2018.000000   2.500000                  21.888889\n",
       "std       2.618615   1.133893                  19.239510\n",
       "min    2014.000000   1.000000                   3.000000\n",
       "25%    2016.000000   1.750000                   6.750000\n",
       "50%    2018.000000   2.500000                  14.500000\n",
       "75%    2020.000000   3.250000                  32.500000\n",
       "max    2022.000000   4.000000                  72.000000"
      ]
     },
     "execution_count": 24,
     "metadata": {},
     "output_type": "execute_result"
    }
   ],
   "source": [
    "df10.describe()"
   ]
  },
  {
   "cell_type": "code",
   "execution_count": 25,
   "metadata": {},
   "outputs": [
    {
     "data": {
      "text/html": [
       "<div>\n",
       "<style scoped>\n",
       "    .dataframe tbody tr th:only-of-type {\n",
       "        vertical-align: middle;\n",
       "    }\n",
       "\n",
       "    .dataframe tbody tr th {\n",
       "        vertical-align: top;\n",
       "    }\n",
       "\n",
       "    .dataframe thead th {\n",
       "        text-align: right;\n",
       "    }\n",
       "</style>\n",
       "<table border=\"1\" class=\"dataframe\">\n",
       "  <thead>\n",
       "    <tr style=\"text-align: right;\">\n",
       "      <th></th>\n",
       "      <th>Año</th>\n",
       "      <th>Trimestre</th>\n",
       "    </tr>\n",
       "  </thead>\n",
       "  <tbody>\n",
       "    <tr>\n",
       "      <th>count</th>\n",
       "      <td>864.000000</td>\n",
       "      <td>864.000000</td>\n",
       "    </tr>\n",
       "    <tr>\n",
       "      <th>mean</th>\n",
       "      <td>2018.000000</td>\n",
       "      <td>2.500000</td>\n",
       "    </tr>\n",
       "    <tr>\n",
       "      <th>std</th>\n",
       "      <td>2.583484</td>\n",
       "      <td>1.118682</td>\n",
       "    </tr>\n",
       "    <tr>\n",
       "      <th>min</th>\n",
       "      <td>2014.000000</td>\n",
       "      <td>1.000000</td>\n",
       "    </tr>\n",
       "    <tr>\n",
       "      <th>25%</th>\n",
       "      <td>2016.000000</td>\n",
       "      <td>1.750000</td>\n",
       "    </tr>\n",
       "    <tr>\n",
       "      <th>50%</th>\n",
       "      <td>2018.000000</td>\n",
       "      <td>2.500000</td>\n",
       "    </tr>\n",
       "    <tr>\n",
       "      <th>75%</th>\n",
       "      <td>2020.000000</td>\n",
       "      <td>3.250000</td>\n",
       "    </tr>\n",
       "    <tr>\n",
       "      <th>max</th>\n",
       "      <td>2022.000000</td>\n",
       "      <td>4.000000</td>\n",
       "    </tr>\n",
       "  </tbody>\n",
       "</table>\n",
       "</div>"
      ],
      "text/plain": [
       "               Año   Trimestre\n",
       "count   864.000000  864.000000\n",
       "mean   2018.000000    2.500000\n",
       "std       2.583484    1.118682\n",
       "min    2014.000000    1.000000\n",
       "25%    2016.000000    1.750000\n",
       "50%    2018.000000    2.500000\n",
       "75%    2020.000000    3.250000\n",
       "max    2022.000000    4.000000"
      ]
     },
     "execution_count": 25,
     "metadata": {},
     "output_type": "execute_result"
    }
   ],
   "source": [
    "df11 = df11.drop(columns=[\"Unnamed: 4\", \"Unnamed: 5\", \"Unnamed: 6\"])\n",
    "df11.describe()"
   ]
  },
  {
   "cell_type": "code",
   "execution_count": 26,
   "metadata": {},
   "outputs": [
    {
     "data": {
      "text/html": [
       "<div>\n",
       "<style scoped>\n",
       "    .dataframe tbody tr th:only-of-type {\n",
       "        vertical-align: middle;\n",
       "    }\n",
       "\n",
       "    .dataframe tbody tr th {\n",
       "        vertical-align: top;\n",
       "    }\n",
       "\n",
       "    .dataframe thead th {\n",
       "        text-align: right;\n",
       "    }\n",
       "</style>\n",
       "<table border=\"1\" class=\"dataframe\">\n",
       "  <thead>\n",
       "    <tr style=\"text-align: right;\">\n",
       "      <th></th>\n",
       "      <th>Año</th>\n",
       "      <th>Trimestre</th>\n",
       "    </tr>\n",
       "  </thead>\n",
       "  <tbody>\n",
       "    <tr>\n",
       "      <th>count</th>\n",
       "      <td>36.000000</td>\n",
       "      <td>36.000000</td>\n",
       "    </tr>\n",
       "    <tr>\n",
       "      <th>mean</th>\n",
       "      <td>2018.000000</td>\n",
       "      <td>2.500000</td>\n",
       "    </tr>\n",
       "    <tr>\n",
       "      <th>std</th>\n",
       "      <td>2.618615</td>\n",
       "      <td>1.133893</td>\n",
       "    </tr>\n",
       "    <tr>\n",
       "      <th>min</th>\n",
       "      <td>2014.000000</td>\n",
       "      <td>1.000000</td>\n",
       "    </tr>\n",
       "    <tr>\n",
       "      <th>25%</th>\n",
       "      <td>2016.000000</td>\n",
       "      <td>1.750000</td>\n",
       "    </tr>\n",
       "    <tr>\n",
       "      <th>50%</th>\n",
       "      <td>2018.000000</td>\n",
       "      <td>2.500000</td>\n",
       "    </tr>\n",
       "    <tr>\n",
       "      <th>75%</th>\n",
       "      <td>2020.000000</td>\n",
       "      <td>3.250000</td>\n",
       "    </tr>\n",
       "    <tr>\n",
       "      <th>max</th>\n",
       "      <td>2022.000000</td>\n",
       "      <td>4.000000</td>\n",
       "    </tr>\n",
       "  </tbody>\n",
       "</table>\n",
       "</div>"
      ],
      "text/plain": [
       "               Año  Trimestre\n",
       "count    36.000000  36.000000\n",
       "mean   2018.000000   2.500000\n",
       "std       2.618615   1.133893\n",
       "min    2014.000000   1.000000\n",
       "25%    2016.000000   1.750000\n",
       "50%    2018.000000   2.500000\n",
       "75%    2020.000000   3.250000\n",
       "max    2022.000000   4.000000"
      ]
     },
     "execution_count": 26,
     "metadata": {},
     "output_type": "execute_result"
    }
   ],
   "source": [
    "df12.describe()"
   ]
  },
  {
   "cell_type": "code",
   "execution_count": 27,
   "metadata": {},
   "outputs": [
    {
     "data": {
      "text/html": [
       "<div>\n",
       "<style scoped>\n",
       "    .dataframe tbody tr th:only-of-type {\n",
       "        vertical-align: middle;\n",
       "    }\n",
       "\n",
       "    .dataframe tbody tr th {\n",
       "        vertical-align: top;\n",
       "    }\n",
       "\n",
       "    .dataframe thead th {\n",
       "        text-align: right;\n",
       "    }\n",
       "</style>\n",
       "<table border=\"1\" class=\"dataframe\">\n",
       "  <thead>\n",
       "    <tr style=\"text-align: right;\">\n",
       "      <th></th>\n",
       "      <th>Provincia</th>\n",
       "      <th>Partido</th>\n",
       "      <th>Localidad</th>\n",
       "      <th>ADSL</th>\n",
       "      <th>Cablemódem</th>\n",
       "      <th>Dial Up</th>\n",
       "      <th>Fibra óptica</th>\n",
       "      <th>4G</th>\n",
       "      <th>3G</th>\n",
       "      <th>Telefonía Fija</th>\n",
       "      <th>Wireless</th>\n",
       "      <th>Satelital</th>\n",
       "    </tr>\n",
       "  </thead>\n",
       "  <tbody>\n",
       "    <tr>\n",
       "      <th>count</th>\n",
       "      <td>4311</td>\n",
       "      <td>4311</td>\n",
       "      <td>4311</td>\n",
       "      <td>4311</td>\n",
       "      <td>4311</td>\n",
       "      <td>4311</td>\n",
       "      <td>4311</td>\n",
       "      <td>4311</td>\n",
       "      <td>4311</td>\n",
       "      <td>4311</td>\n",
       "      <td>4311</td>\n",
       "      <td>4311</td>\n",
       "    </tr>\n",
       "    <tr>\n",
       "      <th>unique</th>\n",
       "      <td>24</td>\n",
       "      <td>444</td>\n",
       "      <td>3912</td>\n",
       "      <td>2</td>\n",
       "      <td>2</td>\n",
       "      <td>2</td>\n",
       "      <td>2</td>\n",
       "      <td>2</td>\n",
       "      <td>2</td>\n",
       "      <td>2</td>\n",
       "      <td>2</td>\n",
       "      <td>2</td>\n",
       "    </tr>\n",
       "    <tr>\n",
       "      <th>top</th>\n",
       "      <td>BUENOS AIRES</td>\n",
       "      <td>General Roca</td>\n",
       "      <td>San Pedro</td>\n",
       "      <td>--</td>\n",
       "      <td>--</td>\n",
       "      <td>--</td>\n",
       "      <td>--</td>\n",
       "      <td>SI</td>\n",
       "      <td>--</td>\n",
       "      <td>SI</td>\n",
       "      <td>SI</td>\n",
       "      <td>--</td>\n",
       "    </tr>\n",
       "    <tr>\n",
       "      <th>freq</th>\n",
       "      <td>901</td>\n",
       "      <td>84</td>\n",
       "      <td>12</td>\n",
       "      <td>3182</td>\n",
       "      <td>3448</td>\n",
       "      <td>3908</td>\n",
       "      <td>2784</td>\n",
       "      <td>2574</td>\n",
       "      <td>2431</td>\n",
       "      <td>2243</td>\n",
       "      <td>2224</td>\n",
       "      <td>3248</td>\n",
       "    </tr>\n",
       "  </tbody>\n",
       "</table>\n",
       "</div>"
      ],
      "text/plain": [
       "           Provincia       Partido  Localidad  ADSL Cablemódem Dial Up  \\\n",
       "count           4311          4311       4311  4311       4311    4311   \n",
       "unique            24           444       3912     2          2       2   \n",
       "top     BUENOS AIRES  General Roca  San Pedro    --         --      --   \n",
       "freq             901            84         12  3182       3448    3908   \n",
       "\n",
       "       Fibra óptica    4G    3G Telefonía Fija Wireless Satelital  \n",
       "count          4311  4311  4311           4311     4311      4311  \n",
       "unique            2     2     2              2        2         2  \n",
       "top              --    SI    --             SI       SI        --  \n",
       "freq           2784  2574  2431           2243     2224      3248  "
      ]
     },
     "execution_count": 27,
     "metadata": {},
     "output_type": "execute_result"
    }
   ],
   "source": [
    "df13.describe()"
   ]
  },
  {
   "cell_type": "code",
   "execution_count": 28,
   "metadata": {},
   "outputs": [
    {
     "data": {
      "text/html": [
       "<div>\n",
       "<style scoped>\n",
       "    .dataframe tbody tr th:only-of-type {\n",
       "        vertical-align: middle;\n",
       "    }\n",
       "\n",
       "    .dataframe tbody tr th {\n",
       "        vertical-align: top;\n",
       "    }\n",
       "\n",
       "    .dataframe thead th {\n",
       "        text-align: right;\n",
       "    }\n",
       "</style>\n",
       "<table border=\"1\" class=\"dataframe\">\n",
       "  <thead>\n",
       "    <tr style=\"text-align: right;\">\n",
       "      <th></th>\n",
       "      <th>Año</th>\n",
       "      <th>Trimestre</th>\n",
       "      <th>Mbps (Media de bajada)</th>\n",
       "    </tr>\n",
       "  </thead>\n",
       "  <tbody>\n",
       "    <tr>\n",
       "      <th>count</th>\n",
       "      <td>864.000000</td>\n",
       "      <td>864.000000</td>\n",
       "      <td>864.000000</td>\n",
       "    </tr>\n",
       "    <tr>\n",
       "      <th>mean</th>\n",
       "      <td>2018.000000</td>\n",
       "      <td>2.500000</td>\n",
       "      <td>302.410067</td>\n",
       "    </tr>\n",
       "    <tr>\n",
       "      <th>std</th>\n",
       "      <td>2.583484</td>\n",
       "      <td>1.118682</td>\n",
       "      <td>287.314571</td>\n",
       "    </tr>\n",
       "    <tr>\n",
       "      <th>min</th>\n",
       "      <td>2014.000000</td>\n",
       "      <td>1.000000</td>\n",
       "      <td>1.000000</td>\n",
       "    </tr>\n",
       "    <tr>\n",
       "      <th>25%</th>\n",
       "      <td>2016.000000</td>\n",
       "      <td>1.750000</td>\n",
       "      <td>2.808500</td>\n",
       "    </tr>\n",
       "    <tr>\n",
       "      <th>50%</th>\n",
       "      <td>2018.000000</td>\n",
       "      <td>2.500000</td>\n",
       "      <td>344.000000</td>\n",
       "    </tr>\n",
       "    <tr>\n",
       "      <th>75%</th>\n",
       "      <td>2020.000000</td>\n",
       "      <td>3.250000</td>\n",
       "      <td>520.250000</td>\n",
       "    </tr>\n",
       "    <tr>\n",
       "      <th>max</th>\n",
       "      <td>2022.000000</td>\n",
       "      <td>4.000000</td>\n",
       "      <td>988.000000</td>\n",
       "    </tr>\n",
       "  </tbody>\n",
       "</table>\n",
       "</div>"
      ],
      "text/plain": [
       "               Año   Trimestre  Mbps (Media de bajada)\n",
       "count   864.000000  864.000000              864.000000\n",
       "mean   2018.000000    2.500000              302.410067\n",
       "std       2.583484    1.118682              287.314571\n",
       "min    2014.000000    1.000000                1.000000\n",
       "25%    2016.000000    1.750000                2.808500\n",
       "50%    2018.000000    2.500000              344.000000\n",
       "75%    2020.000000    3.250000              520.250000\n",
       "max    2022.000000    4.000000              988.000000"
      ]
     },
     "execution_count": 28,
     "metadata": {},
     "output_type": "execute_result"
    }
   ],
   "source": [
    "df14.describe()"
   ]
  },
  {
   "cell_type": "code",
   "execution_count": 29,
   "metadata": {},
   "outputs": [
    {
     "data": {
      "text/html": [
       "<div>\n",
       "<style scoped>\n",
       "    .dataframe tbody tr th:only-of-type {\n",
       "        vertical-align: middle;\n",
       "    }\n",
       "\n",
       "    .dataframe tbody tr th {\n",
       "        vertical-align: top;\n",
       "    }\n",
       "\n",
       "    .dataframe thead th {\n",
       "        text-align: right;\n",
       "    }\n",
       "</style>\n",
       "<table border=\"1\" class=\"dataframe\">\n",
       "  <thead>\n",
       "    <tr style=\"text-align: right;\">\n",
       "      <th></th>\n",
       "      <th>Año</th>\n",
       "      <th>Trimestre</th>\n",
       "      <th>Mbps (Media de bajada)</th>\n",
       "    </tr>\n",
       "  </thead>\n",
       "  <tbody>\n",
       "    <tr>\n",
       "      <th>count</th>\n",
       "      <td>36.000000</td>\n",
       "      <td>36.000000</td>\n",
       "      <td>36.000000</td>\n",
       "    </tr>\n",
       "    <tr>\n",
       "      <th>mean</th>\n",
       "      <td>2018.000000</td>\n",
       "      <td>2.500000</td>\n",
       "      <td>221.615333</td>\n",
       "    </tr>\n",
       "    <tr>\n",
       "      <th>std</th>\n",
       "      <td>2.618615</td>\n",
       "      <td>1.133893</td>\n",
       "      <td>275.439068</td>\n",
       "    </tr>\n",
       "    <tr>\n",
       "      <th>min</th>\n",
       "      <td>2014.000000</td>\n",
       "      <td>1.000000</td>\n",
       "      <td>1.201000</td>\n",
       "    </tr>\n",
       "    <tr>\n",
       "      <th>25%</th>\n",
       "      <td>2016.000000</td>\n",
       "      <td>1.750000</td>\n",
       "      <td>3.520500</td>\n",
       "    </tr>\n",
       "    <tr>\n",
       "      <th>50%</th>\n",
       "      <td>2018.000000</td>\n",
       "      <td>2.500000</td>\n",
       "      <td>5.677500</td>\n",
       "    </tr>\n",
       "    <tr>\n",
       "      <th>75%</th>\n",
       "      <td>2020.000000</td>\n",
       "      <td>3.250000</td>\n",
       "      <td>461.000000</td>\n",
       "    </tr>\n",
       "    <tr>\n",
       "      <th>max</th>\n",
       "      <td>2022.000000</td>\n",
       "      <td>4.000000</td>\n",
       "      <td>834.000000</td>\n",
       "    </tr>\n",
       "  </tbody>\n",
       "</table>\n",
       "</div>"
      ],
      "text/plain": [
       "               Año  Trimestre  Mbps (Media de bajada)\n",
       "count    36.000000  36.000000               36.000000\n",
       "mean   2018.000000   2.500000              221.615333\n",
       "std       2.618615   1.133893              275.439068\n",
       "min    2014.000000   1.000000                1.201000\n",
       "25%    2016.000000   1.750000                3.520500\n",
       "50%    2018.000000   2.500000                5.677500\n",
       "75%    2020.000000   3.250000              461.000000\n",
       "max    2022.000000   4.000000              834.000000"
      ]
     },
     "execution_count": 29,
     "metadata": {},
     "output_type": "execute_result"
    }
   ],
   "source": [
    "df15.describe()"
   ]
  },
  {
   "cell_type": "markdown",
   "metadata": {},
   "source": [
    "Control de nulos (eliminacion)"
   ]
  },
  {
   "cell_type": "code",
   "execution_count": 30,
   "metadata": {},
   "outputs": [
    {
     "data": {
      "text/plain": [
       "Año                 0\n",
       "Trimestre           0\n",
       "Banda ancha fija    0\n",
       "Dial up             0\n",
       "Total               0\n",
       "Periodo             0\n",
       "dtype: int64"
      ]
     },
     "execution_count": 30,
     "metadata": {},
     "output_type": "execute_result"
    }
   ],
   "source": [
    "df.isnull().sum()"
   ]
  },
  {
   "cell_type": "code",
   "execution_count": 31,
   "metadata": {},
   "outputs": [
    {
     "data": {
      "text/plain": [
       "Año                 0\n",
       "Trimestre           0\n",
       "Provincia           0\n",
       "Banda ancha fija    0\n",
       "Dial up             0\n",
       "Total               0\n",
       "dtype: int64"
      ]
     },
     "execution_count": 31,
     "metadata": {},
     "output_type": "execute_result"
    }
   ],
   "source": [
    "df2 = df2.dropna()\n",
    "df2.isnull().sum()"
   ]
  },
  {
   "cell_type": "code",
   "execution_count": 32,
   "metadata": {},
   "outputs": [
    {
     "data": {
      "text/plain": [
       "Provincia        0\n",
       "Partido          0\n",
       "Localidad        0\n",
       "Link Indec       0\n",
       "ADSL             0\n",
       "CABLEMODEM       0\n",
       "DIAL UP          0\n",
       "FIBRA OPTICA     0\n",
       "OTROS            0\n",
       "SATELITAL        0\n",
       "WIMAX            0\n",
       "WIRELESS         0\n",
       "Total general    0\n",
       "dtype: int64"
      ]
     },
     "execution_count": 32,
     "metadata": {},
     "output_type": "execute_result"
    }
   ],
   "source": [
    "df3.isnull().sum()"
   ]
  },
  {
   "cell_type": "code",
   "execution_count": 33,
   "metadata": {},
   "outputs": [
    {
     "data": {
      "text/plain": [
       "Año           0\n",
       "Trimestre     0\n",
       "Provincia     0\n",
       "Otros         0\n",
       "0,256 Mbps    0\n",
       "             ..\n",
       "68 Mbps       0\n",
       "70 Mbps       0\n",
       "71 Mbps       0\n",
       "75 Mbps       0\n",
       "77 Mbps       0\n",
       "Length: 97, dtype: int64"
      ]
     },
     "execution_count": 33,
     "metadata": {},
     "output_type": "execute_result"
    }
   ],
   "source": [
    "df4 = df4.dropna()\n",
    "df4.isnull().sum()"
   ]
  },
  {
   "cell_type": "markdown",
   "metadata": {},
   "source": [
    "En este caso la eliminacion de nulos no es una opcion ya que eliminaria todo el dataset, pero decidi descartar este dataset ya que contiene informacion demasiado especifica y considero que con los demas datasets sera suficiente para realizar el analisis, se nos pide un analisis a nivel nacional y este dataset posee informacion sobre \"partido\" y \"localidad\", en este caso no nos es tan necesario ese nivel de analisis."
   ]
  },
  {
   "cell_type": "code",
   "execution_count": 34,
   "metadata": {},
   "outputs": [
    {
     "data": {
      "text/plain": [
       "Provincia     0.0\n",
       "Partido       0.0\n",
       "Localidad     0.0\n",
       "Link Indec    0.0\n",
       "Otros         0.0\n",
       "             ... \n",
       "70 Mbps       0.0\n",
       "75 Mbps       0.0\n",
       "78 Mbps       0.0\n",
       "80 Mbps       0.0\n",
       "83 Mbps       0.0\n",
       "Length: 83, dtype: float64"
      ]
     },
     "execution_count": 34,
     "metadata": {},
     "output_type": "execute_result"
    }
   ],
   "source": [
    "df5 = df5.dropna()\n",
    "df5.isnull().sum()"
   ]
  },
  {
   "cell_type": "code",
   "execution_count": 35,
   "metadata": {},
   "outputs": [
    {
     "data": {
      "text/plain": [
       "Año             0\n",
       "Trimestre       0\n",
       "Provincia       0\n",
       "ADSL            0\n",
       "Cablemodem      0\n",
       "Fibra óptica    0\n",
       "Wireless        0\n",
       "Otros           0\n",
       "Total           0\n",
       "dtype: int64"
      ]
     },
     "execution_count": 35,
     "metadata": {},
     "output_type": "execute_result"
    }
   ],
   "source": [
    "df6 = df6.dropna()\n",
    "df6.isnull().sum()"
   ]
  },
  {
   "cell_type": "code",
   "execution_count": 36,
   "metadata": {},
   "outputs": [
    {
     "data": {
      "text/plain": [
       "Año             0\n",
       "Trimestre       0\n",
       "ADSL            0\n",
       "Cablemodem      0\n",
       "Fibra óptica    0\n",
       "Wireless        0\n",
       "Otros           0\n",
       "Total           0\n",
       "Periodo         0\n",
       "dtype: int64"
      ]
     },
     "execution_count": 36,
     "metadata": {},
     "output_type": "execute_result"
    }
   ],
   "source": [
    "df7.isnull().sum()"
   ]
  },
  {
   "cell_type": "code",
   "execution_count": 37,
   "metadata": {},
   "outputs": [
    {
     "data": {
      "text/plain": [
       "Año                    0\n",
       "Trimestre              0\n",
       "Provincia              0\n",
       "HASTA 512 kbps         0\n",
       "+ 512 Kbps - 1 Mbps    0\n",
       "+ 1 Mbps - 6 Mbps      0\n",
       "+ 6 Mbps - 10 Mbps     0\n",
       "+ 10 Mbps - 20 Mbps    0\n",
       "+ 20 Mbps - 30 Mbps    0\n",
       "+ 30 Mbps              0\n",
       "OTROS                  0\n",
       "Total                  0\n",
       "dtype: int64"
      ]
     },
     "execution_count": 37,
     "metadata": {},
     "output_type": "execute_result"
    }
   ],
   "source": [
    "df8 = df8.dropna()\n",
    "df8.isnull().sum()"
   ]
  },
  {
   "cell_type": "code",
   "execution_count": 38,
   "metadata": {},
   "outputs": [
    {
     "data": {
      "text/plain": [
       "Año                        0\n",
       "Trimestre                  0\n",
       "Hasta 512 kbps             0\n",
       "Entre 512 Kbps y 1 Mbps    0\n",
       "Entre 1 Mbps y 6 Mbps      0\n",
       "Entre 6 Mbps y 10 Mbps     0\n",
       "Entre 10 Mbps y 20 Mbps    0\n",
       "Entre 20 Mbps y 30 Mbps    0\n",
       "Más de 30 Mbps             0\n",
       "OTROS                      0\n",
       "Total                      0\n",
       "dtype: int64"
      ]
     },
     "execution_count": 38,
     "metadata": {},
     "output_type": "execute_result"
    }
   ],
   "source": [
    "df9.isnull().sum()"
   ]
  },
  {
   "cell_type": "code",
   "execution_count": 39,
   "metadata": {},
   "outputs": [
    {
     "data": {
      "text/plain": [
       "Año                          0\n",
       "Trimestre                    0\n",
       "Ingresos (miles de pesos)    0\n",
       "Periodo                      0\n",
       "dtype: int64"
      ]
     },
     "execution_count": 39,
     "metadata": {},
     "output_type": "execute_result"
    }
   ],
   "source": [
    "df10.isnull().sum()"
   ]
  },
  {
   "cell_type": "code",
   "execution_count": 40,
   "metadata": {},
   "outputs": [
    {
     "data": {
      "text/plain": [
       "Año                             0\n",
       "Trimestre                       0\n",
       "Provincia                       0\n",
       "Accesos por cada 100 hogares    0\n",
       "dtype: int64"
      ]
     },
     "execution_count": 40,
     "metadata": {},
     "output_type": "execute_result"
    }
   ],
   "source": [
    "df11.isnull().sum()"
   ]
  },
  {
   "cell_type": "code",
   "execution_count": 41,
   "metadata": {},
   "outputs": [
    {
     "data": {
      "text/plain": [
       "Año                             0\n",
       "Trimestre                       0\n",
       "Accesos por cada 100 hogares    0\n",
       "Accesos por cada 100 hab        0\n",
       "Periodo                         0\n",
       "dtype: int64"
      ]
     },
     "execution_count": 41,
     "metadata": {},
     "output_type": "execute_result"
    }
   ],
   "source": [
    "df12.isnull().sum()"
   ]
  },
  {
   "cell_type": "code",
   "execution_count": 42,
   "metadata": {},
   "outputs": [
    {
     "data": {
      "text/plain": [
       "Provincia         0\n",
       "Partido           0\n",
       "Localidad         0\n",
       "ADSL              0\n",
       "Cablemódem        0\n",
       "Dial Up           0\n",
       "Fibra óptica      0\n",
       "4G                0\n",
       "3G                0\n",
       "Telefonía Fija    0\n",
       "Wireless          0\n",
       "Satelital         0\n",
       "dtype: int64"
      ]
     },
     "execution_count": 42,
     "metadata": {},
     "output_type": "execute_result"
    }
   ],
   "source": [
    "df13.isnull().sum()"
   ]
  },
  {
   "cell_type": "code",
   "execution_count": 43,
   "metadata": {},
   "outputs": [
    {
     "data": {
      "text/plain": [
       "Año                       0\n",
       "Trimestre                 0\n",
       "Provincia                 0\n",
       "Mbps (Media de bajada)    0\n",
       "dtype: int64"
      ]
     },
     "execution_count": 43,
     "metadata": {},
     "output_type": "execute_result"
    }
   ],
   "source": [
    "df14.isnull().sum()"
   ]
  },
  {
   "cell_type": "code",
   "execution_count": 44,
   "metadata": {},
   "outputs": [
    {
     "data": {
      "text/plain": [
       "Año                       0\n",
       "Trimestre                 0\n",
       "Mbps (Media de bajada)    0\n",
       "Trimestre.1               0\n",
       "dtype: int64"
      ]
     },
     "execution_count": 44,
     "metadata": {},
     "output_type": "execute_result"
    }
   ],
   "source": [
    "df15.isnull().sum()"
   ]
  },
  {
   "cell_type": "markdown",
   "metadata": {},
   "source": [
    "Control de duplicados (eliminacion)"
   ]
  },
  {
   "cell_type": "code",
   "execution_count": 45,
   "metadata": {},
   "outputs": [
    {
     "data": {
      "text/plain": [
       "0"
      ]
     },
     "execution_count": 45,
     "metadata": {},
     "output_type": "execute_result"
    }
   ],
   "source": [
    "df.duplicated().sum()"
   ]
  },
  {
   "cell_type": "code",
   "execution_count": 46,
   "metadata": {},
   "outputs": [
    {
     "data": {
      "text/plain": [
       "0"
      ]
     },
     "execution_count": 46,
     "metadata": {},
     "output_type": "execute_result"
    }
   ],
   "source": [
    "df2.duplicated().sum()"
   ]
  },
  {
   "cell_type": "code",
   "execution_count": 47,
   "metadata": {},
   "outputs": [
    {
     "data": {
      "text/plain": [
       "0"
      ]
     },
     "execution_count": 47,
     "metadata": {},
     "output_type": "execute_result"
    }
   ],
   "source": [
    "df3.duplicated().sum()"
   ]
  },
  {
   "cell_type": "code",
   "execution_count": 48,
   "metadata": {},
   "outputs": [
    {
     "data": {
      "text/plain": [
       "0"
      ]
     },
     "execution_count": 48,
     "metadata": {},
     "output_type": "execute_result"
    }
   ],
   "source": [
    "df4.duplicated().sum()"
   ]
  },
  {
   "cell_type": "code",
   "execution_count": 49,
   "metadata": {},
   "outputs": [
    {
     "data": {
      "text/plain": [
       "0"
      ]
     },
     "execution_count": 49,
     "metadata": {},
     "output_type": "execute_result"
    }
   ],
   "source": [
    "df6.duplicated().sum()"
   ]
  },
  {
   "cell_type": "code",
   "execution_count": 50,
   "metadata": {},
   "outputs": [
    {
     "data": {
      "text/plain": [
       "0"
      ]
     },
     "execution_count": 50,
     "metadata": {},
     "output_type": "execute_result"
    }
   ],
   "source": [
    "df7.duplicated().sum()"
   ]
  },
  {
   "cell_type": "code",
   "execution_count": 51,
   "metadata": {},
   "outputs": [
    {
     "data": {
      "text/plain": [
       "0"
      ]
     },
     "execution_count": 51,
     "metadata": {},
     "output_type": "execute_result"
    }
   ],
   "source": [
    "df8.duplicated().sum()"
   ]
  },
  {
   "cell_type": "code",
   "execution_count": 52,
   "metadata": {},
   "outputs": [
    {
     "data": {
      "text/plain": [
       "0"
      ]
     },
     "execution_count": 52,
     "metadata": {},
     "output_type": "execute_result"
    }
   ],
   "source": [
    "df9.duplicated().sum()"
   ]
  },
  {
   "cell_type": "code",
   "execution_count": 53,
   "metadata": {},
   "outputs": [
    {
     "data": {
      "text/plain": [
       "0"
      ]
     },
     "execution_count": 53,
     "metadata": {},
     "output_type": "execute_result"
    }
   ],
   "source": [
    "df10.duplicated().sum()"
   ]
  },
  {
   "cell_type": "code",
   "execution_count": 54,
   "metadata": {},
   "outputs": [
    {
     "data": {
      "text/plain": [
       "0"
      ]
     },
     "execution_count": 54,
     "metadata": {},
     "output_type": "execute_result"
    }
   ],
   "source": [
    "df11.duplicated().sum()"
   ]
  },
  {
   "cell_type": "code",
   "execution_count": 55,
   "metadata": {},
   "outputs": [
    {
     "data": {
      "text/plain": [
       "0"
      ]
     },
     "execution_count": 55,
     "metadata": {},
     "output_type": "execute_result"
    }
   ],
   "source": [
    "df12.duplicated().sum()"
   ]
  },
  {
   "cell_type": "code",
   "execution_count": 56,
   "metadata": {},
   "outputs": [
    {
     "data": {
      "text/plain": [
       "0"
      ]
     },
     "execution_count": 56,
     "metadata": {},
     "output_type": "execute_result"
    }
   ],
   "source": [
    "df13 = df13.drop_duplicates()\n",
    "df13.duplicated().sum()"
   ]
  },
  {
   "cell_type": "code",
   "execution_count": 57,
   "metadata": {},
   "outputs": [
    {
     "data": {
      "text/plain": [
       "0"
      ]
     },
     "execution_count": 57,
     "metadata": {},
     "output_type": "execute_result"
    }
   ],
   "source": [
    "df14.duplicated().sum()"
   ]
  },
  {
   "cell_type": "code",
   "execution_count": 58,
   "metadata": {},
   "outputs": [
    {
     "data": {
      "text/plain": [
       "0"
      ]
     },
     "execution_count": 58,
     "metadata": {},
     "output_type": "execute_result"
    }
   ],
   "source": [
    "df15.duplicated().sum()"
   ]
  },
  {
   "cell_type": "markdown",
   "metadata": {},
   "source": [
    "Tome la decision de no tener en cuenta los datasets df3 y df13 debido a los mismos motivos que el df5, tambien no tendre en cuenta el dataset df4 y el df9 ya que son iguales a el df8 pero con una cantidad enorme e innecesaria de columnas, tambien descarte el df7 ya que es similar al df6 pero con menor precision en los datos ya que trata la informacion en general, mientras que el df6 trata la informacion de acuerdo a las provincias y años por tanto permite mayor precision pero sin ser demasiado como tener \"Partido\" y \"Localidad\", tampoco utilizare el dataframe df12 ya que con la informacion del dataframe df11 ya es suficiente para saber que tanto acceso tenemos por provincia y tampoco utilizare los dataframes df14 y df15 ya que poseen informacion sobre media de bajada y considero que no sera necesario utilizar esta informacion"
   ]
  },
  {
   "cell_type": "markdown",
   "metadata": {},
   "source": [
    "Como podemos ver en este grafico las conexiones de Banda ancha fija se mantuvieron de forma estable y un poco ascendente desde 2014 hasta 2022, entre estos mismo años tambien podemos ver como fue disminuyendo las conexiones Dial up hasta terminar de forma un poco estable junto con las conexiones de Banda ancha fija"
   ]
  },
  {
   "cell_type": "code",
   "execution_count": 60,
   "metadata": {},
   "outputs": [
    {
     "data": {
      "image/png": "[encoded data removed]",
      "text/plain": [
       "<Figure size 1200x600 with 1 Axes>"
      ]
     },
     "metadata": {},
     "output_type": "display_data"
    }
   ],
   "source": [
    "plt.figure(figsize=(12, 6))\n",
    "plt.plot(df[\"Año\"], df[\"Banda ancha fija\"], label=\"Banda ancha fija\", marker=\"o\")\n",
    "plt.plot(df[\"Año\"], df[\"Dial up\"], label=\"Dial up\", marker='o')\n",
    "plt.xlabel(\"Año\")\n",
    "plt.ylabel(\"Número de Conexiones\")\n",
    "plt.title(\"Evolución de las Conexiones de Banda Ancha Fija y Dial-up a lo largo de los Años\")\n",
    "plt.legend()\n",
    "plt.grid(True)\n",
    "plt.show()"
   ]
  },
  {
   "cell_type": "markdown",
   "metadata": {},
   "source": [
    "Con este grafico podemos ver que tipos de conexiones abundan mas en las distintas provincias de Argentina, en este caso lo vemos para el año 2022 en su cuarto trimestre, podemos notar que la provincia de Chubut tiene mas conexiones Dial up que conexiones de Banda ancha fija, mientras que por ejemplo Santa Fe es lo contrario."
   ]
  },
  {
   "cell_type": "code",
   "execution_count": 61,
   "metadata": {},
   "outputs": [
    {
     "data": {
      "image/png": "[encoded data removed]",
      "text/plain": [
       "<Figure size 1200x600 with 1 Axes>"
      ]
     },
     "metadata": {},
     "output_type": "display_data"
    }
   ],
   "source": [
    "año = 2022\n",
    "trimestre = 4\n",
    "filtro = df2[(df2[\"Año\"] == año) & (df2[\"Trimestre\"] == trimestre)]\n",
    "\n",
    "plt.figure(figsize=(12, 6))\n",
    "plt.bar(filtro[\"Provincia\"], filtro[\"Banda ancha fija\"], label=\"Banda ancha fija\", alpha=0.7)\n",
    "plt.bar(filtro[\"Provincia\"], filtro[\"Dial up\"], label=\"Dial up\", alpha=0.7)\n",
    "plt.xlabel(\"Provincia\")\n",
    "plt.ylabel(\"Cantidad de Conexiones\")\n",
    "plt.title(f\"Conexiones en {año}, Trimestre {trimestre}\")\n",
    "plt.legend()\n",
    "plt.xticks(rotation=45)\n",
    "\n",
    "plt.show()"
   ]
  },
  {
   "cell_type": "markdown",
   "metadata": {},
   "source": [
    "Como podemos ver en este grafico se nos marca la cantidad de conexiones para distintos tipos de conexiones en Buenos Aires, podemos ver que el tipo mas dominante para finales de 2022 es el tipo ADSL y tambien podemos ver que se utiliza Wireless y un poco de \"otros\" tipos de conexiones"
   ]
  },
  {
   "cell_type": "code",
   "execution_count": 62,
   "metadata": {},
   "outputs": [
    {
     "data": {
      "image/png": "[encoded data removed]",
      "text/plain": [
       "<Figure size 1200x600 with 1 Axes>"
      ]
     },
     "metadata": {},
     "output_type": "display_data"
    }
   ],
   "source": [
    "provincia = \"Buenos Aires\"\n",
    "filtro6 = df6[df6[\"Provincia\"] == provincia]\n",
    "\n",
    "filtro6 = filtro6.iloc[::-1]\n",
    "\n",
    "plt.figure(figsize=(12, 6))\n",
    "\n",
    "conexiones = [\"ADSL\", \"Cablemodem\", \"Fibra óptica\", \"Wireless\", \"Otros\"]\n",
    "for conexion in conexiones:\n",
    "    plt.plot(\n",
    "        [f\"Año {a}, Trim {t}\" for a, t in zip(filtro6[\"Año\"], filtro6[\"Trimestre\"])],\n",
    "        filtro6[conexion],\n",
    "        marker='o',\n",
    "        linestyle='-',\n",
    "        label=conexion\n",
    "    )\n",
    "\n",
    "plt.xlabel(\"Trimestre\")\n",
    "plt.ylabel(\"Cantidad de Conexiones\")\n",
    "plt.title(f\"Conexiones en {provincia} a lo largo del tiempo\")\n",
    "plt.xticks(rotation=45)\n",
    "plt.grid(True)\n",
    "\n",
    "plt.legend()\n",
    "plt.show()"
   ]
  },
  {
   "cell_type": "markdown",
   "metadata": {},
   "source": [
    "En este grafico podemos filtrar por provincia y por año y trimestre y ver cual es el porcentaje de uso de cada velocidad de internet, como se puede ver, \"+ 30 Mbps\" es el rango de velocidades mas utilizado por mucho, luego le sigue \"+ 1 Mbps - 6 Mbps\" el cual es el segundo mas utilizado por mucho, luego de estos 2 tenemos el resto de rangos de velocidad los cuales son casi inexistentes en comparacion a estos 2, eliminando del grafico a estos 2 entonces podremos ver como es la distribucion de velocidad para el resto de rangos de velocidad de internet"
   ]
  },
  {
   "cell_type": "code",
   "execution_count": 63,
   "metadata": {},
   "outputs": [
    {
     "data": {
      "image/png": "[encoded data removed]",
      "text/plain": [
       "<Figure size 1000x1000 with 1 Axes>"
      ]
     },
     "metadata": {},
     "output_type": "display_data"
    }
   ],
   "source": [
    "provincia = \"Buenos Aires\"\n",
    "año = 2022\n",
    "trimestre = 4\n",
    "\n",
    "filtro = (df8[\"Provincia\"] == provincia) & (df8[\"Año\"] == año) & (df8[\"Trimestre\"] == trimestre)\n",
    "datos_provincia = df8[filtro]\n",
    "\n",
    "columnas_velocidades = [\n",
    "    \"HASTA 512 kbps\",\n",
    "    \"+ 512 Kbps - 1 Mbps\",\n",
    "    \"+ 1 Mbps - 6 Mbps\",\n",
    "    \"+ 6 Mbps - 10 Mbps\",\n",
    "    \"+ 10 Mbps - 20 Mbps\",\n",
    "    \"+ 20 Mbps - 30 Mbps\",\n",
    "    \"+ 30 Mbps\"\n",
    "]\n",
    "\n",
    "def limpiar_y_convertir(valor):\n",
    "    if isinstance(valor, str):\n",
    "        valor = valor.replace(\".\", \"\").replace(\",\", \".\")\n",
    "    return float(valor)\n",
    "\n",
    "for columna in columnas_velocidades:\n",
    "    datos_provincia[columna] = datos_provincia[columna].apply(limpiar_y_convertir)\n",
    "\n",
    "velocidades = datos_provincia[columnas_velocidades].sum().values\n",
    "\n",
    "etiquetas = columnas_velocidades\n",
    "\n",
    "colores = [\"lightblue\", \"lightgreen\", \"lightcoral\", \"lightsalmon\", \"lightpink\", \"lightyellow\", \"lightgray\"]\n",
    "\n",
    "plt.figure(figsize=(10, 10))\n",
    "plt.pie(velocidades, labels=etiquetas, colors=colores, autopct=\"%1.1f%%\", startangle=140, textprops={\"fontsize\": 8})\n",
    "plt.title(f\"Distribución de velocidades de Internet en {provincia}, {año} - Trimestre {trimestre}\")\n",
    "plt.axis(\"equal\")\n",
    "plt.show()"
   ]
  },
  {
   "cell_type": "markdown",
   "metadata": {},
   "source": [
    "En este grafico podemos ver como con el pasar del tiempo los ingresos fueron aumentando hasta pasar de unos casi 5 mil a un poco mas de 70 mil pesos"
   ]
  },
  {
   "cell_type": "code",
   "execution_count": 64,
   "metadata": {},
   "outputs": [
    {
     "data": {
      "image/png": "[encoded data removed]",
      "text/plain": [
       "<Figure size 1000x600 with 1 Axes>"
      ]
     },
     "metadata": {},
     "output_type": "display_data"
    }
   ],
   "source": [
    "df10 = df10.sort_values(by=[\"Año\", \"Trimestre\"])\n",
    "\n",
    "plt.figure(figsize=(10, 6))\n",
    "plt.plot(df10[\"Periodo\"], df10[\"Ingresos (miles de pesos)\"])\n",
    "plt.xlabel(\"Periodo\")\n",
    "plt.ylabel(\"Ingresos (miles de pesos)\")\n",
    "plt.title(\"Evolución de Ingresos a lo largo del Tiempo\")\n",
    "plt.xticks(rotation=45)\n",
    "plt.grid(True)\n",
    "plt.show()"
   ]
  },
  {
   "cell_type": "markdown",
   "metadata": {},
   "source": [
    "Este grafico nos permite visualizar que provincias poseen mejor acceso a internet en comparacion a las demas"
   ]
  },
  {
   "cell_type": "code",
   "execution_count": 72,
   "metadata": {},
   "outputs": [
    {
     "data": {
      "image/png": "[encoded data removed]",
      "text/plain": [
       "<Figure size 1200x600 with 1 Axes>"
      ]
     },
     "metadata": {},
     "output_type": "display_data"
    }
   ],
   "source": [
    "trimestre = 4\n",
    "año = 2022\n",
    "df_trimestre_ano = df11[(df11[\"Año\"] == año) & (df11[\"Trimestre\"] == trimestre)]\n",
    "\n",
    "df_trimestre_ano = df_trimestre_ano.sort_values(by=\"Accesos por cada 100 hogares\", ascending=False)\n",
    "\n",
    "plt.figure(figsize=(12, 6))\n",
    "sns.barplot(x=\"Provincia\", y=\"Accesos por cada 100 hogares\", data=df_trimestre_ano)\n",
    "plt.xlabel(\"Provincia\")\n",
    "plt.ylabel(\"Accesos por cada 100 hogares\")\n",
    "plt.title(f\"Accesos en el Trimestre {trimestre}, {año}\")\n",
    "plt.xticks(rotation=45)\n",
    "plt.grid(axis=\"y\")\n",
    "plt.show()"
   ]
  },
  {
   "cell_type": "code",
   "execution_count": 77,
   "metadata": {},
   "outputs": [
    {
     "data": {
      "text/html": [
       "<div>\n",
       "<style scoped>\n",
       "    .dataframe tbody tr th:only-of-type {\n",
       "        vertical-align: middle;\n",
       "    }\n",
       "\n",
       "    .dataframe tbody tr th {\n",
       "        vertical-align: top;\n",
       "    }\n",
       "\n",
       "    .dataframe thead th {\n",
       "        text-align: right;\n",
       "    }\n",
       "</style>\n",
       "<table border=\"1\" class=\"dataframe\">\n",
       "  <thead>\n",
       "    <tr style=\"text-align: right;\">\n",
       "      <th></th>\n",
       "      <th>Año</th>\n",
       "      <th>Trimestre</th>\n",
       "      <th>Provincia</th>\n",
       "      <th>Mbps (Media de bajada)</th>\n",
       "    </tr>\n",
       "  </thead>\n",
       "  <tbody>\n",
       "    <tr>\n",
       "      <th>0</th>\n",
       "      <td>2022</td>\n",
       "      <td>4</td>\n",
       "      <td>Buenos Aires</td>\n",
       "      <td>111.000</td>\n",
       "    </tr>\n",
       "    <tr>\n",
       "      <th>1</th>\n",
       "      <td>2022</td>\n",
       "      <td>4</td>\n",
       "      <td>Capital Federal</td>\n",
       "      <td>18.286</td>\n",
       "    </tr>\n",
       "    <tr>\n",
       "      <th>2</th>\n",
       "      <td>2022</td>\n",
       "      <td>4</td>\n",
       "      <td>Catamarca</td>\n",
       "      <td>8.333</td>\n",
       "    </tr>\n",
       "    <tr>\n",
       "      <th>3</th>\n",
       "      <td>2022</td>\n",
       "      <td>4</td>\n",
       "      <td>Chaco</td>\n",
       "      <td>10.402</td>\n",
       "    </tr>\n",
       "    <tr>\n",
       "      <th>4</th>\n",
       "      <td>2022</td>\n",
       "      <td>4</td>\n",
       "      <td>Chubut</td>\n",
       "      <td>1.592</td>\n",
       "    </tr>\n",
       "    <tr>\n",
       "      <th>...</th>\n",
       "      <td>...</td>\n",
       "      <td>...</td>\n",
       "      <td>...</td>\n",
       "      <td>...</td>\n",
       "    </tr>\n",
       "    <tr>\n",
       "      <th>859</th>\n",
       "      <td>2014</td>\n",
       "      <td>1</td>\n",
       "      <td>Santa Cruz</td>\n",
       "      <td>332.000</td>\n",
       "    </tr>\n",
       "    <tr>\n",
       "      <th>860</th>\n",
       "      <td>2014</td>\n",
       "      <td>1</td>\n",
       "      <td>Santa Fe</td>\n",
       "      <td>315.000</td>\n",
       "    </tr>\n",
       "    <tr>\n",
       "      <th>861</th>\n",
       "      <td>2014</td>\n",
       "      <td>1</td>\n",
       "      <td>Santiago Del Estero</td>\n",
       "      <td>295.000</td>\n",
       "    </tr>\n",
       "    <tr>\n",
       "      <th>862</th>\n",
       "      <td>2014</td>\n",
       "      <td>1</td>\n",
       "      <td>Tierra Del Fuego</td>\n",
       "      <td>345.000</td>\n",
       "    </tr>\n",
       "    <tr>\n",
       "      <th>863</th>\n",
       "      <td>2014</td>\n",
       "      <td>1</td>\n",
       "      <td>Tucumán</td>\n",
       "      <td>321.000</td>\n",
       "    </tr>\n",
       "  </tbody>\n",
       "</table>\n",
       "<p>864 rows × 4 columns</p>\n",
       "</div>"
      ],
      "text/plain": [
       "      Año  Trimestre            Provincia  Mbps (Media de bajada)\n",
       "0    2022          4         Buenos Aires                 111.000\n",
       "1    2022          4      Capital Federal                  18.286\n",
       "2    2022          4            Catamarca                   8.333\n",
       "3    2022          4                Chaco                  10.402\n",
       "4    2022          4               Chubut                   1.592\n",
       "..    ...        ...                  ...                     ...\n",
       "859  2014          1           Santa Cruz                 332.000\n",
       "860  2014          1             Santa Fe                 315.000\n",
       "861  2014          1  Santiago Del Estero                 295.000\n",
       "862  2014          1     Tierra Del Fuego                 345.000\n",
       "863  2014          1              Tucumán                 321.000\n",
       "\n",
       "[864 rows x 4 columns]"
      ]
     },
     "execution_count": 77,
     "metadata": {},
     "output_type": "execute_result"
    }
   ],
   "source": [
    "df14"
   ]
  }
 ],
 "metadata": {
  "kernelspec": {
   "display_name": "Python 3",
   "language": "python",
   "name": "python3"
  },
  "language_info": {
   "codemirror_mode": {
    "name": "ipython",
    "version": 3
   },
   "file_extension": ".py",
   "mimetype": "text/x-python",
   "name": "python",
   "nbconvert_exporter": "python",
   "pygments_lexer": "ipython3",
   "version": "3.11.5"
  }
 },
 "nbformat": 4,
 "nbformat_minor": 2
}
